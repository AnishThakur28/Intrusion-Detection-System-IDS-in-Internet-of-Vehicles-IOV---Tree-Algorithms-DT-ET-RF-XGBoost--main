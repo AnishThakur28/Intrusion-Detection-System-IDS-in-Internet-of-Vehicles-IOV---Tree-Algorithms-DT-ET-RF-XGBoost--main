{
  "nbformat": 4,
  "nbformat_minor": 0,
  "metadata": {
    "colab": {
      "provenance": []
    },
    "kernelspec": {
      "name": "python3",
      "display_name": "Python 3"
    },
    "language_info": {
      "name": "python"
    }
  },
  "cells": [
    {
      "cell_type": "markdown",
      "source": [
        "### **Intrusion Detection System(IDS) in Internet of Vehicles(IOV) --- Tree Based ALGORITHMS**\n",
        " \n",
        "\n",
        "**[AV]**  Autonomous Vehicle + **[IOV] **Internet of vehicle = **[ITS]**Intelligent Transport Systems\n",
        "\n",
        "**[AV]**  = **[V2X]** Vehicle to Public**[V2P]**, Vehicle**[V2V]**, Infra**[V2I]** \n",
        "\n",
        " **[IDS]** <--**[AV]** + **[IOV]** <-- External /Internal Communication Threat\n",
        "\n",
        "**Dataset:**  **CICID 2017**- Standard Attack Scenario___________________           [28,30,743  x 79] \n",
        " \n",
        " **Pre Processing :** Normalization ,Encoder_____________________________[56,661 x 79]\n",
        " \n",
        " **Oversampling   :** **SMOTE** <-- Handle Class Imbalance Data ______________{4 :1500}\n",
        "\n",
        "**Models ⁉**\n",
        "\n",
        "                    Accuracy     Acc(with Imp Feature)\n",
        "    Decision Tree  : 99.67 %             99.68 %\n",
        "    Random Forest  : 99.62 %             99.74 %\n",
        "    Extra Trees    : 99.53 %             99.64 % \n",
        "    XGBoost        : 99.55 %             99.53 %\n",
        "    ________________________________________________\n",
        "    Stack          : 96.63 %             99.63 %\n"
      ],
      "metadata": {
        "id": "_P0MOJmdIg_s"
      }
    },
    {
      "cell_type": "code",
      "execution_count": null,
      "metadata": {
        "id": "bdt7mdGJx9TK",
        "colab": {
          "base_uri": "https://localhost:8080/"
        },
        "outputId": "038558e2-3949-40ee-e2fd-3d3da0fbb30f"
      },
      "outputs": [
        {
          "output_type": "stream",
          "name": "stdout",
          "text": [
            "Mounted at /content/drive\n"
          ]
        }
      ],
      "source": [
        "from google.colab import drive\n",
        "drive.mount('/content/drive')"
      ]
    },
    {
      "cell_type": "code",
      "source": [
        "import glob\n",
        "import os\n",
        "import pandas as pd\n",
        "import numpy as np\n",
        "import seaborn as sns\n",
        "import matplotlib.pyplot as plt\n",
        "from sklearn.preprocessing import LabelEncoder\n",
        "from sklearn.model_selection import train_test_split\n",
        "from imblearn.over_sampling import SMOTE\n",
        "from sklearn.metrics import classification_report, confusion_matrix, accuracy_score, precision_recall_fscore_support, f1_score\n",
        "from sklearn.ensemble import RandomForestClassifier, ExtraTreesClassifier\n",
        "from sklearn.tree import DecisionTreeClassifier\n",
        "import xgboost as xgb\n",
        "from xgboost import plot_importance\n",
        "from zipfile import ZipFile"
      ],
      "metadata": {
        "id": "_PspwqPKx-kp"
      },
      "execution_count": null,
      "outputs": []
    },
    {
      "cell_type": "code",
      "source": [
        "path = \"/content/drive/MyDrive/datasets/CIC-IDS-2017\"\n",
        "comm_file = \"/MachineLearningCSV.zip\"\n",
        "\n",
        "file = f\"{path}{comm_file}\"\n",
        "\n",
        "with ZipFile(file,'r') as archive:\n",
        "  archive.extractall(f\"{path}\")\n",
        "\n",
        "archive.close()"
      ],
      "metadata": {
        "id": "6M7XA6I9G5Pd"
      },
      "execution_count": null,
      "outputs": []
    },
    {
      "cell_type": "code",
      "source": [
        "# path = \"/content/drive/MyDrive/datasets/CIC-IDS-2017\"\n",
        "# comm_file = \"/GeneratedLabelledFlows.zip\"\n",
        "# \n",
        "# file = f\"{path}{comm_file}\"\n",
        "# \n",
        "# with ZipFile(file,'r') as archive:\n",
        "#   archive.extractall(f\"{path}\")\n",
        "# \n",
        "# archive.close()"
      ],
      "metadata": {
        "id": "ngOmp6PSZglK"
      },
      "execution_count": null,
      "outputs": []
    },
    {
      "cell_type": "markdown",
      "source": [
        "## **Preprocessing**"
      ],
      "metadata": {
        "id": "naco1SRv-xOp"
      }
    },
    {
      "cell_type": "code",
      "source": [
        "ds_path = f\"{path}/MachineLearningCVE\"\n",
        "df = pd.concat([pd.read_csv(f, sep=',') for f in glob.glob(ds_path + \"/*.csv\")],ignore_index=True)\n",
        "df.head()"
      ],
      "metadata": {
        "id": "_U8NLEgUKzJR",
        "colab": {
          "base_uri": "https://localhost:8080/",
          "height": 351
        },
        "outputId": "b86b8296-afc9-4f0f-a54a-b003ea231d60"
      },
      "execution_count": null,
      "outputs": [
        {
          "output_type": "execute_result",
          "data": {
            "text/plain": [
              "    Destination Port   Flow Duration   Total Fwd Packets  \\\n",
              "0                 80           38308                   1   \n",
              "1                389             479                  11   \n",
              "2                 88            1095                  10   \n",
              "3                389           15206                  17   \n",
              "4                 88            1092                   9   \n",
              "\n",
              "    Total Backward Packets  Total Length of Fwd Packets  \\\n",
              "0                        1                            6   \n",
              "1                        5                          172   \n",
              "2                        6                         3150   \n",
              "3                       12                         3452   \n",
              "4                        6                         3150   \n",
              "\n",
              "    Total Length of Bwd Packets   Fwd Packet Length Max  \\\n",
              "0                             6                       6   \n",
              "1                           326                      79   \n",
              "2                          3150                    1575   \n",
              "3                          6660                    1313   \n",
              "4                          3152                    1575   \n",
              "\n",
              "    Fwd Packet Length Min   Fwd Packet Length Mean   Fwd Packet Length Std  \\\n",
              "0                       6                 6.000000                0.000000   \n",
              "1                       0                15.636364               31.449238   \n",
              "2                       0               315.000000              632.561635   \n",
              "3                       0               203.058823              425.778474   \n",
              "4                       0               350.000000              694.509719   \n",
              "\n",
              "   ...   min_seg_size_forward  Active Mean   Active Std   Active Max  \\\n",
              "0  ...                     20          0.0          0.0            0   \n",
              "1  ...                     32          0.0          0.0            0   \n",
              "2  ...                     32          0.0          0.0            0   \n",
              "3  ...                     32          0.0          0.0            0   \n",
              "4  ...                     32          0.0          0.0            0   \n",
              "\n",
              "    Active Min  Idle Mean   Idle Std   Idle Max   Idle Min   Label  \n",
              "0            0        0.0        0.0          0          0  BENIGN  \n",
              "1            0        0.0        0.0          0          0  BENIGN  \n",
              "2            0        0.0        0.0          0          0  BENIGN  \n",
              "3            0        0.0        0.0          0          0  BENIGN  \n",
              "4            0        0.0        0.0          0          0  BENIGN  \n",
              "\n",
              "[5 rows x 79 columns]"
            ],
            "text/html": [
              "\n",
              "  <div id=\"df-532c09a0-e29d-4a20-9fc8-b86816a2755c\">\n",
              "    <div class=\"colab-df-container\">\n",
              "      <div>\n",
              "<style scoped>\n",
              "    .dataframe tbody tr th:only-of-type {\n",
              "        vertical-align: middle;\n",
              "    }\n",
              "\n",
              "    .dataframe tbody tr th {\n",
              "        vertical-align: top;\n",
              "    }\n",
              "\n",
              "    .dataframe thead th {\n",
              "        text-align: right;\n",
              "    }\n",
              "</style>\n",
              "<table border=\"1\" class=\"dataframe\">\n",
              "  <thead>\n",
              "    <tr style=\"text-align: right;\">\n",
              "      <th></th>\n",
              "      <th>Destination Port</th>\n",
              "      <th>Flow Duration</th>\n",
              "      <th>Total Fwd Packets</th>\n",
              "      <th>Total Backward Packets</th>\n",
              "      <th>Total Length of Fwd Packets</th>\n",
              "      <th>Total Length of Bwd Packets</th>\n",
              "      <th>Fwd Packet Length Max</th>\n",
              "      <th>Fwd Packet Length Min</th>\n",
              "      <th>Fwd Packet Length Mean</th>\n",
              "      <th>Fwd Packet Length Std</th>\n",
              "      <th>...</th>\n",
              "      <th>min_seg_size_forward</th>\n",
              "      <th>Active Mean</th>\n",
              "      <th>Active Std</th>\n",
              "      <th>Active Max</th>\n",
              "      <th>Active Min</th>\n",
              "      <th>Idle Mean</th>\n",
              "      <th>Idle Std</th>\n",
              "      <th>Idle Max</th>\n",
              "      <th>Idle Min</th>\n",
              "      <th>Label</th>\n",
              "    </tr>\n",
              "  </thead>\n",
              "  <tbody>\n",
              "    <tr>\n",
              "      <th>0</th>\n",
              "      <td>80</td>\n",
              "      <td>38308</td>\n",
              "      <td>1</td>\n",
              "      <td>1</td>\n",
              "      <td>6</td>\n",
              "      <td>6</td>\n",
              "      <td>6</td>\n",
              "      <td>6</td>\n",
              "      <td>6.000000</td>\n",
              "      <td>0.000000</td>\n",
              "      <td>...</td>\n",
              "      <td>20</td>\n",
              "      <td>0.0</td>\n",
              "      <td>0.0</td>\n",
              "      <td>0</td>\n",
              "      <td>0</td>\n",
              "      <td>0.0</td>\n",
              "      <td>0.0</td>\n",
              "      <td>0</td>\n",
              "      <td>0</td>\n",
              "      <td>BENIGN</td>\n",
              "    </tr>\n",
              "    <tr>\n",
              "      <th>1</th>\n",
              "      <td>389</td>\n",
              "      <td>479</td>\n",
              "      <td>11</td>\n",
              "      <td>5</td>\n",
              "      <td>172</td>\n",
              "      <td>326</td>\n",
              "      <td>79</td>\n",
              "      <td>0</td>\n",
              "      <td>15.636364</td>\n",
              "      <td>31.449238</td>\n",
              "      <td>...</td>\n",
              "      <td>32</td>\n",
              "      <td>0.0</td>\n",
              "      <td>0.0</td>\n",
              "      <td>0</td>\n",
              "      <td>0</td>\n",
              "      <td>0.0</td>\n",
              "      <td>0.0</td>\n",
              "      <td>0</td>\n",
              "      <td>0</td>\n",
              "      <td>BENIGN</td>\n",
              "    </tr>\n",
              "    <tr>\n",
              "      <th>2</th>\n",
              "      <td>88</td>\n",
              "      <td>1095</td>\n",
              "      <td>10</td>\n",
              "      <td>6</td>\n",
              "      <td>3150</td>\n",
              "      <td>3150</td>\n",
              "      <td>1575</td>\n",
              "      <td>0</td>\n",
              "      <td>315.000000</td>\n",
              "      <td>632.561635</td>\n",
              "      <td>...</td>\n",
              "      <td>32</td>\n",
              "      <td>0.0</td>\n",
              "      <td>0.0</td>\n",
              "      <td>0</td>\n",
              "      <td>0</td>\n",
              "      <td>0.0</td>\n",
              "      <td>0.0</td>\n",
              "      <td>0</td>\n",
              "      <td>0</td>\n",
              "      <td>BENIGN</td>\n",
              "    </tr>\n",
              "    <tr>\n",
              "      <th>3</th>\n",
              "      <td>389</td>\n",
              "      <td>15206</td>\n",
              "      <td>17</td>\n",
              "      <td>12</td>\n",
              "      <td>3452</td>\n",
              "      <td>6660</td>\n",
              "      <td>1313</td>\n",
              "      <td>0</td>\n",
              "      <td>203.058823</td>\n",
              "      <td>425.778474</td>\n",
              "      <td>...</td>\n",
              "      <td>32</td>\n",
              "      <td>0.0</td>\n",
              "      <td>0.0</td>\n",
              "      <td>0</td>\n",
              "      <td>0</td>\n",
              "      <td>0.0</td>\n",
              "      <td>0.0</td>\n",
              "      <td>0</td>\n",
              "      <td>0</td>\n",
              "      <td>BENIGN</td>\n",
              "    </tr>\n",
              "    <tr>\n",
              "      <th>4</th>\n",
              "      <td>88</td>\n",
              "      <td>1092</td>\n",
              "      <td>9</td>\n",
              "      <td>6</td>\n",
              "      <td>3150</td>\n",
              "      <td>3152</td>\n",
              "      <td>1575</td>\n",
              "      <td>0</td>\n",
              "      <td>350.000000</td>\n",
              "      <td>694.509719</td>\n",
              "      <td>...</td>\n",
              "      <td>32</td>\n",
              "      <td>0.0</td>\n",
              "      <td>0.0</td>\n",
              "      <td>0</td>\n",
              "      <td>0</td>\n",
              "      <td>0.0</td>\n",
              "      <td>0.0</td>\n",
              "      <td>0</td>\n",
              "      <td>0</td>\n",
              "      <td>BENIGN</td>\n",
              "    </tr>\n",
              "  </tbody>\n",
              "</table>\n",
              "<p>5 rows × 79 columns</p>\n",
              "</div>\n",
              "      <button class=\"colab-df-convert\" onclick=\"convertToInteractive('df-532c09a0-e29d-4a20-9fc8-b86816a2755c')\"\n",
              "              title=\"Convert this dataframe to an interactive table.\"\n",
              "              style=\"display:none;\">\n",
              "        \n",
              "  <svg xmlns=\"http://www.w3.org/2000/svg\" height=\"24px\"viewBox=\"0 0 24 24\"\n",
              "       width=\"24px\">\n",
              "    <path d=\"M0 0h24v24H0V0z\" fill=\"none\"/>\n",
              "    <path d=\"M18.56 5.44l.94 2.06.94-2.06 2.06-.94-2.06-.94-.94-2.06-.94 2.06-2.06.94zm-11 1L8.5 8.5l.94-2.06 2.06-.94-2.06-.94L8.5 2.5l-.94 2.06-2.06.94zm10 10l.94 2.06.94-2.06 2.06-.94-2.06-.94-.94-2.06-.94 2.06-2.06.94z\"/><path d=\"M17.41 7.96l-1.37-1.37c-.4-.4-.92-.59-1.43-.59-.52 0-1.04.2-1.43.59L10.3 9.45l-7.72 7.72c-.78.78-.78 2.05 0 2.83L4 21.41c.39.39.9.59 1.41.59.51 0 1.02-.2 1.41-.59l7.78-7.78 2.81-2.81c.8-.78.8-2.07 0-2.86zM5.41 20L4 18.59l7.72-7.72 1.47 1.35L5.41 20z\"/>\n",
              "  </svg>\n",
              "      </button>\n",
              "      \n",
              "  <style>\n",
              "    .colab-df-container {\n",
              "      display:flex;\n",
              "      flex-wrap:wrap;\n",
              "      gap: 12px;\n",
              "    }\n",
              "\n",
              "    .colab-df-convert {\n",
              "      background-color: #E8F0FE;\n",
              "      border: none;\n",
              "      border-radius: 50%;\n",
              "      cursor: pointer;\n",
              "      display: none;\n",
              "      fill: #1967D2;\n",
              "      height: 32px;\n",
              "      padding: 0 0 0 0;\n",
              "      width: 32px;\n",
              "    }\n",
              "\n",
              "    .colab-df-convert:hover {\n",
              "      background-color: #E2EBFA;\n",
              "      box-shadow: 0px 1px 2px rgba(60, 64, 67, 0.3), 0px 1px 3px 1px rgba(60, 64, 67, 0.15);\n",
              "      fill: #174EA6;\n",
              "    }\n",
              "\n",
              "    [theme=dark] .colab-df-convert {\n",
              "      background-color: #3B4455;\n",
              "      fill: #D2E3FC;\n",
              "    }\n",
              "\n",
              "    [theme=dark] .colab-df-convert:hover {\n",
              "      background-color: #434B5C;\n",
              "      box-shadow: 0px 1px 3px 1px rgba(0, 0, 0, 0.15);\n",
              "      filter: drop-shadow(0px 1px 2px rgba(0, 0, 0, 0.3));\n",
              "      fill: #FFFFFF;\n",
              "    }\n",
              "  </style>\n",
              "\n",
              "      <script>\n",
              "        const buttonEl =\n",
              "          document.querySelector('#df-532c09a0-e29d-4a20-9fc8-b86816a2755c button.colab-df-convert');\n",
              "        buttonEl.style.display =\n",
              "          google.colab.kernel.accessAllowed ? 'block' : 'none';\n",
              "\n",
              "        async function convertToInteractive(key) {\n",
              "          const element = document.querySelector('#df-532c09a0-e29d-4a20-9fc8-b86816a2755c');\n",
              "          const dataTable =\n",
              "            await google.colab.kernel.invokeFunction('convertToInteractive',\n",
              "                                                     [key], {});\n",
              "          if (!dataTable) return;\n",
              "\n",
              "          const docLinkHtml = 'Like what you see? Visit the ' +\n",
              "            '<a target=\"_blank\" href=https://colab.research.google.com/notebooks/data_table.ipynb>data table notebook</a>'\n",
              "            + ' to learn more about interactive tables.';\n",
              "          element.innerHTML = '';\n",
              "          dataTable['output_type'] = 'display_data';\n",
              "          await google.colab.output.renderOutput(dataTable, element);\n",
              "          const docLink = document.createElement('div');\n",
              "          docLink.innerHTML = docLinkHtml;\n",
              "          element.appendChild(docLink);\n",
              "        }\n",
              "      </script>\n",
              "    </div>\n",
              "  </div>\n",
              "  "
            ]
          },
          "metadata": {},
          "execution_count": 5
        }
      ]
    },
    {
      "cell_type": "code",
      "source": [
        "df.shape"
      ],
      "metadata": {
        "id": "mH0ccEJrLNU0",
        "colab": {
          "base_uri": "https://localhost:8080/"
        },
        "outputId": "158723d1-2015-4dd7-9b3d-60a5ecd75377"
      },
      "execution_count": null,
      "outputs": [
        {
          "output_type": "execute_result",
          "data": {
            "text/plain": [
              "(2830743, 79)"
            ]
          },
          "metadata": {},
          "execution_count": 6
        }
      ]
    },
    {
      "cell_type": "code",
      "source": [
        "df.isnull().sum().sum()"
      ],
      "metadata": {
        "id": "EyEUn8HF1pGR",
        "colab": {
          "base_uri": "https://localhost:8080/"
        },
        "outputId": "60e2420c-8b4c-4cb8-ebae-2b60a42b7570"
      },
      "execution_count": null,
      "outputs": [
        {
          "output_type": "execute_result",
          "data": {
            "text/plain": [
              "1358"
            ]
          },
          "metadata": {},
          "execution_count": 7
        }
      ]
    },
    {
      "cell_type": "code",
      "source": [
        "df.columns.values.tolist()"
      ],
      "metadata": {
        "id": "pUBUPElzOI1S",
        "colab": {
          "base_uri": "https://localhost:8080/"
        },
        "outputId": "c5beaa17-6ae7-40a4-d691-5d37d5c33d24"
      },
      "execution_count": null,
      "outputs": [
        {
          "output_type": "execute_result",
          "data": {
            "text/plain": [
              "[' Destination Port',\n",
              " ' Flow Duration',\n",
              " ' Total Fwd Packets',\n",
              " ' Total Backward Packets',\n",
              " 'Total Length of Fwd Packets',\n",
              " ' Total Length of Bwd Packets',\n",
              " ' Fwd Packet Length Max',\n",
              " ' Fwd Packet Length Min',\n",
              " ' Fwd Packet Length Mean',\n",
              " ' Fwd Packet Length Std',\n",
              " 'Bwd Packet Length Max',\n",
              " ' Bwd Packet Length Min',\n",
              " ' Bwd Packet Length Mean',\n",
              " ' Bwd Packet Length Std',\n",
              " 'Flow Bytes/s',\n",
              " ' Flow Packets/s',\n",
              " ' Flow IAT Mean',\n",
              " ' Flow IAT Std',\n",
              " ' Flow IAT Max',\n",
              " ' Flow IAT Min',\n",
              " 'Fwd IAT Total',\n",
              " ' Fwd IAT Mean',\n",
              " ' Fwd IAT Std',\n",
              " ' Fwd IAT Max',\n",
              " ' Fwd IAT Min',\n",
              " 'Bwd IAT Total',\n",
              " ' Bwd IAT Mean',\n",
              " ' Bwd IAT Std',\n",
              " ' Bwd IAT Max',\n",
              " ' Bwd IAT Min',\n",
              " 'Fwd PSH Flags',\n",
              " ' Bwd PSH Flags',\n",
              " ' Fwd URG Flags',\n",
              " ' Bwd URG Flags',\n",
              " ' Fwd Header Length',\n",
              " ' Bwd Header Length',\n",
              " 'Fwd Packets/s',\n",
              " ' Bwd Packets/s',\n",
              " ' Min Packet Length',\n",
              " ' Max Packet Length',\n",
              " ' Packet Length Mean',\n",
              " ' Packet Length Std',\n",
              " ' Packet Length Variance',\n",
              " 'FIN Flag Count',\n",
              " ' SYN Flag Count',\n",
              " ' RST Flag Count',\n",
              " ' PSH Flag Count',\n",
              " ' ACK Flag Count',\n",
              " ' URG Flag Count',\n",
              " ' CWE Flag Count',\n",
              " ' ECE Flag Count',\n",
              " ' Down/Up Ratio',\n",
              " ' Average Packet Size',\n",
              " ' Avg Fwd Segment Size',\n",
              " ' Avg Bwd Segment Size',\n",
              " ' Fwd Header Length.1',\n",
              " 'Fwd Avg Bytes/Bulk',\n",
              " ' Fwd Avg Packets/Bulk',\n",
              " ' Fwd Avg Bulk Rate',\n",
              " ' Bwd Avg Bytes/Bulk',\n",
              " ' Bwd Avg Packets/Bulk',\n",
              " 'Bwd Avg Bulk Rate',\n",
              " 'Subflow Fwd Packets',\n",
              " ' Subflow Fwd Bytes',\n",
              " ' Subflow Bwd Packets',\n",
              " ' Subflow Bwd Bytes',\n",
              " 'Init_Win_bytes_forward',\n",
              " ' Init_Win_bytes_backward',\n",
              " ' act_data_pkt_fwd',\n",
              " ' min_seg_size_forward',\n",
              " 'Active Mean',\n",
              " ' Active Std',\n",
              " ' Active Max',\n",
              " ' Active Min',\n",
              " 'Idle Mean',\n",
              " ' Idle Std',\n",
              " ' Idle Max',\n",
              " ' Idle Min',\n",
              " ' Label']"
            ]
          },
          "metadata": {},
          "execution_count": 8
        }
      ]
    },
    {
      "cell_type": "code",
      "source": [
        "df = df.rename(columns=lambda x: x.strip())"
      ],
      "metadata": {
        "id": "QexDfbGwOsya"
      },
      "execution_count": null,
      "outputs": []
    },
    {
      "cell_type": "code",
      "source": [
        "df['Label'].value_counts()"
      ],
      "metadata": {
        "id": "nR7j5zXSM_4l",
        "colab": {
          "base_uri": "https://localhost:8080/"
        },
        "outputId": "43896624-de2c-4911-cd9e-3eddadf72099"
      },
      "execution_count": null,
      "outputs": [
        {
          "output_type": "execute_result",
          "data": {
            "text/plain": [
              "BENIGN                        2273097\n",
              "DoS Hulk                       231073\n",
              "PortScan                       158930\n",
              "DDoS                           128027\n",
              "DoS GoldenEye                   10293\n",
              "FTP-Patator                      7938\n",
              "SSH-Patator                      5897\n",
              "DoS slowloris                    5796\n",
              "DoS Slowhttptest                 5499\n",
              "Bot                              1966\n",
              "Web Attack � Brute Force         1507\n",
              "Web Attack � XSS                  652\n",
              "Infiltration                       36\n",
              "Web Attack � Sql Injection         21\n",
              "Heartbleed                         11\n",
              "Name: Label, dtype: int64"
            ]
          },
          "metadata": {},
          "execution_count": 10
        }
      ]
    },
    {
      "cell_type": "code",
      "source": [
        "df['Label'] = df['Label'].replace(['DoS Hulk', 'DDoS', 'DoS GoldenEye', 'DoS slowloris', 'DoS Slowhttptest', 'Heartbleed'], 'DoS')\n",
        "df['Label'] = df['Label'].replace(['Web Attack � Brute Force', 'Web Attack � XSS', 'Web Attack � Sql Injection'], 'WebAttack')\n",
        "df['Label'] = df['Label'].replace(['FTP-Patator', 'SSH-Patator'], 'BruteForce')"
      ],
      "metadata": {
        "id": "Tzkc9_RWS9jI"
      },
      "execution_count": null,
      "outputs": []
    },
    {
      "cell_type": "code",
      "source": [
        "df['Label'].value_counts()"
      ],
      "metadata": {
        "id": "CwHJbAL2TT5f",
        "colab": {
          "base_uri": "https://localhost:8080/"
        },
        "outputId": "447a917c-2a94-430a-dac1-da48699800fc"
      },
      "execution_count": null,
      "outputs": [
        {
          "output_type": "execute_result",
          "data": {
            "text/plain": [
              "BENIGN          2273097\n",
              "DoS              380699\n",
              "PortScan         158930\n",
              "BruteForce        13835\n",
              "WebAttack          2180\n",
              "Bot                1966\n",
              "Infiltration         36\n",
              "Name: Label, dtype: int64"
            ]
          },
          "metadata": {},
          "execution_count": 12
        }
      ]
    },
    {
      "cell_type": "code",
      "source": [
        "df_minor = df[(df['Label']=='WebAttack')|(df['Label']=='Bot')|(df['Label']=='Infiltration')]\n",
        "df_BENIGN = df[(df['Label']=='BENIGN')]\n",
        "df_BENIGN = df_BENIGN.sample(n=None, frac=0.01, replace=False, weights=None, random_state=None, axis=0)\n",
        "df_DoS = df[(df['Label']=='DoS')]\n",
        "df_DoS = df_DoS.sample(n=None, frac=0.05, replace=False, weights=None, random_state=None, axis=0)\n",
        "df_PortScan = df[(df['Label']=='PortScan')]\n",
        "df_PortScan = df_PortScan.sample(n=None, frac=0.05, replace=False, weights=None, random_state=None, axis=0)\n",
        "df_BruteForce = df[(df['Label']=='BruteForce')]\n",
        "df_BruteForce = df_BruteForce.sample(n=None, frac=0.2, replace=False, weights=None, random_state=None, axis=0)"
      ],
      "metadata": {
        "id": "AXgyOYFjkwvm"
      },
      "execution_count": null,
      "outputs": []
    },
    {
      "cell_type": "code",
      "source": [
        "df_s = pd.concat([df_BENIGN, df_DoS, df_PortScan, df_BruteForce, df_minor], ignore_index=True)\n",
        "df_s"
      ],
      "metadata": {
        "id": "kWH8McqRk5Ry",
        "colab": {
          "base_uri": "https://localhost:8080/",
          "height": 540
        },
        "outputId": "38ba3883-fbb8-4b84-dc67-1f18a6b7c25a"
      },
      "execution_count": null,
      "outputs": [
        {
          "output_type": "execute_result",
          "data": {
            "text/plain": [
              "       Destination Port  Flow Duration  Total Fwd Packets  \\\n",
              "0                    53            527                  1   \n",
              "1                   443       85623762                 16   \n",
              "2                    53            193                  2   \n",
              "3                    53          47513                  2   \n",
              "4                    53          24000                  2   \n",
              "...                 ...            ...                ...   \n",
              "56656              8080        1030558                  3   \n",
              "56657              8080        1008819                  3   \n",
              "56658              8080        1032755                  3   \n",
              "56659              8080        1045087                  3   \n",
              "56660              8080         997161                  3   \n",
              "\n",
              "       Total Backward Packets  Total Length of Fwd Packets  \\\n",
              "0                           1                           61   \n",
              "1                          21                         3180   \n",
              "2                           2                           46   \n",
              "3                           2                           74   \n",
              "4                           2                           70   \n",
              "...                       ...                          ...   \n",
              "56656                       3                            0   \n",
              "56657                       3                            0   \n",
              "56658                       3                            0   \n",
              "56659                       3                            0   \n",
              "56660                       3                            0   \n",
              "\n",
              "       Total Length of Bwd Packets  Fwd Packet Length Max  \\\n",
              "0                               89                     61   \n",
              "1                             6972                   2781   \n",
              "2                               46                     23   \n",
              "3                              444                     37   \n",
              "4                              306                     35   \n",
              "...                            ...                    ...   \n",
              "56656                           18                      0   \n",
              "56657                           18                      0   \n",
              "56658                           18                      0   \n",
              "56659                           18                      0   \n",
              "56660                           18                      0   \n",
              "\n",
              "       Fwd Packet Length Min  Fwd Packet Length Mean  Fwd Packet Length Std  \\\n",
              "0                         61                   61.00               0.000000   \n",
              "1                          0                  198.75             690.827764   \n",
              "2                         23                   23.00               0.000000   \n",
              "3                         37                   37.00               0.000000   \n",
              "4                         35                   35.00               0.000000   \n",
              "...                      ...                     ...                    ...   \n",
              "56656                      0                    0.00               0.000000   \n",
              "56657                      0                    0.00               0.000000   \n",
              "56658                      0                    0.00               0.000000   \n",
              "56659                      0                    0.00               0.000000   \n",
              "56660                      0                    0.00               0.000000   \n",
              "\n",
              "       ...  min_seg_size_forward  Active Mean   Active Std  Active Max  \\\n",
              "0      ...                    20          0.0       0.0000           0   \n",
              "1      ...                    20     164164.5  383424.6181     1113092   \n",
              "2      ...                    32          0.0       0.0000           0   \n",
              "3      ...                    32          0.0       0.0000           0   \n",
              "4      ...                    32          0.0       0.0000           0   \n",
              "...    ...                   ...          ...          ...         ...   \n",
              "56656  ...                    28          0.0       0.0000           0   \n",
              "56657  ...                    28          0.0       0.0000           0   \n",
              "56658  ...                    28          0.0       0.0000           0   \n",
              "56659  ...                    28          0.0       0.0000           0   \n",
              "56660  ...                    28          0.0       0.0000           0   \n",
              "\n",
              "       Active Min   Idle Mean   Idle Std  Idle Max  Idle Min   Label  \n",
              "0               0        0.00    0.00000         0         0  BENIGN  \n",
              "1           28439  9999966.25  458.31329  10000000   9999427  BENIGN  \n",
              "2               0        0.00    0.00000         0         0  BENIGN  \n",
              "3               0        0.00    0.00000         0         0  BENIGN  \n",
              "4               0        0.00    0.00000         0         0  BENIGN  \n",
              "...           ...         ...        ...       ...       ...     ...  \n",
              "56656           0        0.00    0.00000         0         0     Bot  \n",
              "56657           0        0.00    0.00000         0         0     Bot  \n",
              "56658           0        0.00    0.00000         0         0     Bot  \n",
              "56659           0        0.00    0.00000         0         0     Bot  \n",
              "56660           0        0.00    0.00000         0         0     Bot  \n",
              "\n",
              "[56661 rows x 79 columns]"
            ],
            "text/html": [
              "\n",
              "  <div id=\"df-3c60317f-9ba3-4f20-995b-c974f2770133\">\n",
              "    <div class=\"colab-df-container\">\n",
              "      <div>\n",
              "<style scoped>\n",
              "    .dataframe tbody tr th:only-of-type {\n",
              "        vertical-align: middle;\n",
              "    }\n",
              "\n",
              "    .dataframe tbody tr th {\n",
              "        vertical-align: top;\n",
              "    }\n",
              "\n",
              "    .dataframe thead th {\n",
              "        text-align: right;\n",
              "    }\n",
              "</style>\n",
              "<table border=\"1\" class=\"dataframe\">\n",
              "  <thead>\n",
              "    <tr style=\"text-align: right;\">\n",
              "      <th></th>\n",
              "      <th>Destination Port</th>\n",
              "      <th>Flow Duration</th>\n",
              "      <th>Total Fwd Packets</th>\n",
              "      <th>Total Backward Packets</th>\n",
              "      <th>Total Length of Fwd Packets</th>\n",
              "      <th>Total Length of Bwd Packets</th>\n",
              "      <th>Fwd Packet Length Max</th>\n",
              "      <th>Fwd Packet Length Min</th>\n",
              "      <th>Fwd Packet Length Mean</th>\n",
              "      <th>Fwd Packet Length Std</th>\n",
              "      <th>...</th>\n",
              "      <th>min_seg_size_forward</th>\n",
              "      <th>Active Mean</th>\n",
              "      <th>Active Std</th>\n",
              "      <th>Active Max</th>\n",
              "      <th>Active Min</th>\n",
              "      <th>Idle Mean</th>\n",
              "      <th>Idle Std</th>\n",
              "      <th>Idle Max</th>\n",
              "      <th>Idle Min</th>\n",
              "      <th>Label</th>\n",
              "    </tr>\n",
              "  </thead>\n",
              "  <tbody>\n",
              "    <tr>\n",
              "      <th>0</th>\n",
              "      <td>53</td>\n",
              "      <td>527</td>\n",
              "      <td>1</td>\n",
              "      <td>1</td>\n",
              "      <td>61</td>\n",
              "      <td>89</td>\n",
              "      <td>61</td>\n",
              "      <td>61</td>\n",
              "      <td>61.00</td>\n",
              "      <td>0.000000</td>\n",
              "      <td>...</td>\n",
              "      <td>20</td>\n",
              "      <td>0.0</td>\n",
              "      <td>0.0000</td>\n",
              "      <td>0</td>\n",
              "      <td>0</td>\n",
              "      <td>0.00</td>\n",
              "      <td>0.00000</td>\n",
              "      <td>0</td>\n",
              "      <td>0</td>\n",
              "      <td>BENIGN</td>\n",
              "    </tr>\n",
              "    <tr>\n",
              "      <th>1</th>\n",
              "      <td>443</td>\n",
              "      <td>85623762</td>\n",
              "      <td>16</td>\n",
              "      <td>21</td>\n",
              "      <td>3180</td>\n",
              "      <td>6972</td>\n",
              "      <td>2781</td>\n",
              "      <td>0</td>\n",
              "      <td>198.75</td>\n",
              "      <td>690.827764</td>\n",
              "      <td>...</td>\n",
              "      <td>20</td>\n",
              "      <td>164164.5</td>\n",
              "      <td>383424.6181</td>\n",
              "      <td>1113092</td>\n",
              "      <td>28439</td>\n",
              "      <td>9999966.25</td>\n",
              "      <td>458.31329</td>\n",
              "      <td>10000000</td>\n",
              "      <td>9999427</td>\n",
              "      <td>BENIGN</td>\n",
              "    </tr>\n",
              "    <tr>\n",
              "      <th>2</th>\n",
              "      <td>53</td>\n",
              "      <td>193</td>\n",
              "      <td>2</td>\n",
              "      <td>2</td>\n",
              "      <td>46</td>\n",
              "      <td>46</td>\n",
              "      <td>23</td>\n",
              "      <td>23</td>\n",
              "      <td>23.00</td>\n",
              "      <td>0.000000</td>\n",
              "      <td>...</td>\n",
              "      <td>32</td>\n",
              "      <td>0.0</td>\n",
              "      <td>0.0000</td>\n",
              "      <td>0</td>\n",
              "      <td>0</td>\n",
              "      <td>0.00</td>\n",
              "      <td>0.00000</td>\n",
              "      <td>0</td>\n",
              "      <td>0</td>\n",
              "      <td>BENIGN</td>\n",
              "    </tr>\n",
              "    <tr>\n",
              "      <th>3</th>\n",
              "      <td>53</td>\n",
              "      <td>47513</td>\n",
              "      <td>2</td>\n",
              "      <td>2</td>\n",
              "      <td>74</td>\n",
              "      <td>444</td>\n",
              "      <td>37</td>\n",
              "      <td>37</td>\n",
              "      <td>37.00</td>\n",
              "      <td>0.000000</td>\n",
              "      <td>...</td>\n",
              "      <td>32</td>\n",
              "      <td>0.0</td>\n",
              "      <td>0.0000</td>\n",
              "      <td>0</td>\n",
              "      <td>0</td>\n",
              "      <td>0.00</td>\n",
              "      <td>0.00000</td>\n",
              "      <td>0</td>\n",
              "      <td>0</td>\n",
              "      <td>BENIGN</td>\n",
              "    </tr>\n",
              "    <tr>\n",
              "      <th>4</th>\n",
              "      <td>53</td>\n",
              "      <td>24000</td>\n",
              "      <td>2</td>\n",
              "      <td>2</td>\n",
              "      <td>70</td>\n",
              "      <td>306</td>\n",
              "      <td>35</td>\n",
              "      <td>35</td>\n",
              "      <td>35.00</td>\n",
              "      <td>0.000000</td>\n",
              "      <td>...</td>\n",
              "      <td>32</td>\n",
              "      <td>0.0</td>\n",
              "      <td>0.0000</td>\n",
              "      <td>0</td>\n",
              "      <td>0</td>\n",
              "      <td>0.00</td>\n",
              "      <td>0.00000</td>\n",
              "      <td>0</td>\n",
              "      <td>0</td>\n",
              "      <td>BENIGN</td>\n",
              "    </tr>\n",
              "    <tr>\n",
              "      <th>...</th>\n",
              "      <td>...</td>\n",
              "      <td>...</td>\n",
              "      <td>...</td>\n",
              "      <td>...</td>\n",
              "      <td>...</td>\n",
              "      <td>...</td>\n",
              "      <td>...</td>\n",
              "      <td>...</td>\n",
              "      <td>...</td>\n",
              "      <td>...</td>\n",
              "      <td>...</td>\n",
              "      <td>...</td>\n",
              "      <td>...</td>\n",
              "      <td>...</td>\n",
              "      <td>...</td>\n",
              "      <td>...</td>\n",
              "      <td>...</td>\n",
              "      <td>...</td>\n",
              "      <td>...</td>\n",
              "      <td>...</td>\n",
              "      <td>...</td>\n",
              "    </tr>\n",
              "    <tr>\n",
              "      <th>56656</th>\n",
              "      <td>8080</td>\n",
              "      <td>1030558</td>\n",
              "      <td>3</td>\n",
              "      <td>3</td>\n",
              "      <td>0</td>\n",
              "      <td>18</td>\n",
              "      <td>0</td>\n",
              "      <td>0</td>\n",
              "      <td>0.00</td>\n",
              "      <td>0.000000</td>\n",
              "      <td>...</td>\n",
              "      <td>28</td>\n",
              "      <td>0.0</td>\n",
              "      <td>0.0000</td>\n",
              "      <td>0</td>\n",
              "      <td>0</td>\n",
              "      <td>0.00</td>\n",
              "      <td>0.00000</td>\n",
              "      <td>0</td>\n",
              "      <td>0</td>\n",
              "      <td>Bot</td>\n",
              "    </tr>\n",
              "    <tr>\n",
              "      <th>56657</th>\n",
              "      <td>8080</td>\n",
              "      <td>1008819</td>\n",
              "      <td>3</td>\n",
              "      <td>3</td>\n",
              "      <td>0</td>\n",
              "      <td>18</td>\n",
              "      <td>0</td>\n",
              "      <td>0</td>\n",
              "      <td>0.00</td>\n",
              "      <td>0.000000</td>\n",
              "      <td>...</td>\n",
              "      <td>28</td>\n",
              "      <td>0.0</td>\n",
              "      <td>0.0000</td>\n",
              "      <td>0</td>\n",
              "      <td>0</td>\n",
              "      <td>0.00</td>\n",
              "      <td>0.00000</td>\n",
              "      <td>0</td>\n",
              "      <td>0</td>\n",
              "      <td>Bot</td>\n",
              "    </tr>\n",
              "    <tr>\n",
              "      <th>56658</th>\n",
              "      <td>8080</td>\n",
              "      <td>1032755</td>\n",
              "      <td>3</td>\n",
              "      <td>3</td>\n",
              "      <td>0</td>\n",
              "      <td>18</td>\n",
              "      <td>0</td>\n",
              "      <td>0</td>\n",
              "      <td>0.00</td>\n",
              "      <td>0.000000</td>\n",
              "      <td>...</td>\n",
              "      <td>28</td>\n",
              "      <td>0.0</td>\n",
              "      <td>0.0000</td>\n",
              "      <td>0</td>\n",
              "      <td>0</td>\n",
              "      <td>0.00</td>\n",
              "      <td>0.00000</td>\n",
              "      <td>0</td>\n",
              "      <td>0</td>\n",
              "      <td>Bot</td>\n",
              "    </tr>\n",
              "    <tr>\n",
              "      <th>56659</th>\n",
              "      <td>8080</td>\n",
              "      <td>1045087</td>\n",
              "      <td>3</td>\n",
              "      <td>3</td>\n",
              "      <td>0</td>\n",
              "      <td>18</td>\n",
              "      <td>0</td>\n",
              "      <td>0</td>\n",
              "      <td>0.00</td>\n",
              "      <td>0.000000</td>\n",
              "      <td>...</td>\n",
              "      <td>28</td>\n",
              "      <td>0.0</td>\n",
              "      <td>0.0000</td>\n",
              "      <td>0</td>\n",
              "      <td>0</td>\n",
              "      <td>0.00</td>\n",
              "      <td>0.00000</td>\n",
              "      <td>0</td>\n",
              "      <td>0</td>\n",
              "      <td>Bot</td>\n",
              "    </tr>\n",
              "    <tr>\n",
              "      <th>56660</th>\n",
              "      <td>8080</td>\n",
              "      <td>997161</td>\n",
              "      <td>3</td>\n",
              "      <td>3</td>\n",
              "      <td>0</td>\n",
              "      <td>18</td>\n",
              "      <td>0</td>\n",
              "      <td>0</td>\n",
              "      <td>0.00</td>\n",
              "      <td>0.000000</td>\n",
              "      <td>...</td>\n",
              "      <td>28</td>\n",
              "      <td>0.0</td>\n",
              "      <td>0.0000</td>\n",
              "      <td>0</td>\n",
              "      <td>0</td>\n",
              "      <td>0.00</td>\n",
              "      <td>0.00000</td>\n",
              "      <td>0</td>\n",
              "      <td>0</td>\n",
              "      <td>Bot</td>\n",
              "    </tr>\n",
              "  </tbody>\n",
              "</table>\n",
              "<p>56661 rows × 79 columns</p>\n",
              "</div>\n",
              "      <button class=\"colab-df-convert\" onclick=\"convertToInteractive('df-3c60317f-9ba3-4f20-995b-c974f2770133')\"\n",
              "              title=\"Convert this dataframe to an interactive table.\"\n",
              "              style=\"display:none;\">\n",
              "        \n",
              "  <svg xmlns=\"http://www.w3.org/2000/svg\" height=\"24px\"viewBox=\"0 0 24 24\"\n",
              "       width=\"24px\">\n",
              "    <path d=\"M0 0h24v24H0V0z\" fill=\"none\"/>\n",
              "    <path d=\"M18.56 5.44l.94 2.06.94-2.06 2.06-.94-2.06-.94-.94-2.06-.94 2.06-2.06.94zm-11 1L8.5 8.5l.94-2.06 2.06-.94-2.06-.94L8.5 2.5l-.94 2.06-2.06.94zm10 10l.94 2.06.94-2.06 2.06-.94-2.06-.94-.94-2.06-.94 2.06-2.06.94z\"/><path d=\"M17.41 7.96l-1.37-1.37c-.4-.4-.92-.59-1.43-.59-.52 0-1.04.2-1.43.59L10.3 9.45l-7.72 7.72c-.78.78-.78 2.05 0 2.83L4 21.41c.39.39.9.59 1.41.59.51 0 1.02-.2 1.41-.59l7.78-7.78 2.81-2.81c.8-.78.8-2.07 0-2.86zM5.41 20L4 18.59l7.72-7.72 1.47 1.35L5.41 20z\"/>\n",
              "  </svg>\n",
              "      </button>\n",
              "      \n",
              "  <style>\n",
              "    .colab-df-container {\n",
              "      display:flex;\n",
              "      flex-wrap:wrap;\n",
              "      gap: 12px;\n",
              "    }\n",
              "\n",
              "    .colab-df-convert {\n",
              "      background-color: #E8F0FE;\n",
              "      border: none;\n",
              "      border-radius: 50%;\n",
              "      cursor: pointer;\n",
              "      display: none;\n",
              "      fill: #1967D2;\n",
              "      height: 32px;\n",
              "      padding: 0 0 0 0;\n",
              "      width: 32px;\n",
              "    }\n",
              "\n",
              "    .colab-df-convert:hover {\n",
              "      background-color: #E2EBFA;\n",
              "      box-shadow: 0px 1px 2px rgba(60, 64, 67, 0.3), 0px 1px 3px 1px rgba(60, 64, 67, 0.15);\n",
              "      fill: #174EA6;\n",
              "    }\n",
              "\n",
              "    [theme=dark] .colab-df-convert {\n",
              "      background-color: #3B4455;\n",
              "      fill: #D2E3FC;\n",
              "    }\n",
              "\n",
              "    [theme=dark] .colab-df-convert:hover {\n",
              "      background-color: #434B5C;\n",
              "      box-shadow: 0px 1px 3px 1px rgba(0, 0, 0, 0.15);\n",
              "      filter: drop-shadow(0px 1px 2px rgba(0, 0, 0, 0.3));\n",
              "      fill: #FFFFFF;\n",
              "    }\n",
              "  </style>\n",
              "\n",
              "      <script>\n",
              "        const buttonEl =\n",
              "          document.querySelector('#df-3c60317f-9ba3-4f20-995b-c974f2770133 button.colab-df-convert');\n",
              "        buttonEl.style.display =\n",
              "          google.colab.kernel.accessAllowed ? 'block' : 'none';\n",
              "\n",
              "        async function convertToInteractive(key) {\n",
              "          const element = document.querySelector('#df-3c60317f-9ba3-4f20-995b-c974f2770133');\n",
              "          const dataTable =\n",
              "            await google.colab.kernel.invokeFunction('convertToInteractive',\n",
              "                                                     [key], {});\n",
              "          if (!dataTable) return;\n",
              "\n",
              "          const docLinkHtml = 'Like what you see? Visit the ' +\n",
              "            '<a target=\"_blank\" href=https://colab.research.google.com/notebooks/data_table.ipynb>data table notebook</a>'\n",
              "            + ' to learn more about interactive tables.';\n",
              "          element.innerHTML = '';\n",
              "          dataTable['output_type'] = 'display_data';\n",
              "          await google.colab.output.renderOutput(dataTable, element);\n",
              "          const docLink = document.createElement('div');\n",
              "          docLink.innerHTML = docLinkHtml;\n",
              "          element.appendChild(docLink);\n",
              "        }\n",
              "      </script>\n",
              "    </div>\n",
              "  </div>\n",
              "  "
            ]
          },
          "metadata": {},
          "execution_count": 14
        }
      ]
    },
    {
      "cell_type": "code",
      "source": [
        "df_s = df_s.sort_index()"
      ],
      "metadata": {
        "id": "yaLbr8kFndAU"
      },
      "execution_count": null,
      "outputs": []
    },
    {
      "cell_type": "code",
      "source": [
        "df_s['Label'].value_counts()"
      ],
      "metadata": {
        "id": "tqNlEZ0HlzFY",
        "colab": {
          "base_uri": "https://localhost:8080/"
        },
        "outputId": "88fcf4ec-4c63-4cb5-8d82-b73a14998be1"
      },
      "execution_count": null,
      "outputs": [
        {
          "output_type": "execute_result",
          "data": {
            "text/plain": [
              "BENIGN          22731\n",
              "DoS             19035\n",
              "PortScan         7946\n",
              "BruteForce       2767\n",
              "WebAttack        2180\n",
              "Bot              1966\n",
              "Infiltration       36\n",
              "Name: Label, dtype: int64"
            ]
          },
          "metadata": {},
          "execution_count": 16
        }
      ]
    },
    {
      "cell_type": "code",
      "source": [
        "df_s.to_csv(f'{path}/CICIDS2017_sample.csv', index=0)"
      ],
      "metadata": {
        "id": "GGkU1MY_nuIF"
      },
      "execution_count": null,
      "outputs": []
    },
    {
      "cell_type": "code",
      "source": [
        "df = pd.read_csv(f'{path}/CICIDS2017_sample.csv')\n",
        "df.head()"
      ],
      "metadata": {
        "id": "pxfrmHkFpN5S",
        "colab": {
          "base_uri": "https://localhost:8080/",
          "height": 351
        },
        "outputId": "207121ae-eafe-4aa7-89bb-0e77669c3518"
      },
      "execution_count": null,
      "outputs": [
        {
          "output_type": "execute_result",
          "data": {
            "text/plain": [
              "   Destination Port  Flow Duration  Total Fwd Packets  Total Backward Packets  \\\n",
              "0                53            527                  1                       1   \n",
              "1               443       85623762                 16                      21   \n",
              "2                53            193                  2                       2   \n",
              "3                53          47513                  2                       2   \n",
              "4                53          24000                  2                       2   \n",
              "\n",
              "   Total Length of Fwd Packets  Total Length of Bwd Packets  \\\n",
              "0                           61                           89   \n",
              "1                         3180                         6972   \n",
              "2                           46                           46   \n",
              "3                           74                          444   \n",
              "4                           70                          306   \n",
              "\n",
              "   Fwd Packet Length Max  Fwd Packet Length Min  Fwd Packet Length Mean  \\\n",
              "0                     61                     61                   61.00   \n",
              "1                   2781                      0                  198.75   \n",
              "2                     23                     23                   23.00   \n",
              "3                     37                     37                   37.00   \n",
              "4                     35                     35                   35.00   \n",
              "\n",
              "   Fwd Packet Length Std  ...  min_seg_size_forward  Active Mean   Active Std  \\\n",
              "0               0.000000  ...                    20          0.0       0.0000   \n",
              "1             690.827764  ...                    20     164164.5  383424.6181   \n",
              "2               0.000000  ...                    32          0.0       0.0000   \n",
              "3               0.000000  ...                    32          0.0       0.0000   \n",
              "4               0.000000  ...                    32          0.0       0.0000   \n",
              "\n",
              "   Active Max  Active Min   Idle Mean   Idle Std  Idle Max  Idle Min   Label  \n",
              "0           0           0        0.00    0.00000         0         0  BENIGN  \n",
              "1     1113092       28439  9999966.25  458.31329  10000000   9999427  BENIGN  \n",
              "2           0           0        0.00    0.00000         0         0  BENIGN  \n",
              "3           0           0        0.00    0.00000         0         0  BENIGN  \n",
              "4           0           0        0.00    0.00000         0         0  BENIGN  \n",
              "\n",
              "[5 rows x 79 columns]"
            ],
            "text/html": [
              "\n",
              "  <div id=\"df-7995edc7-d1d7-4efb-9f90-a5c57f76a835\">\n",
              "    <div class=\"colab-df-container\">\n",
              "      <div>\n",
              "<style scoped>\n",
              "    .dataframe tbody tr th:only-of-type {\n",
              "        vertical-align: middle;\n",
              "    }\n",
              "\n",
              "    .dataframe tbody tr th {\n",
              "        vertical-align: top;\n",
              "    }\n",
              "\n",
              "    .dataframe thead th {\n",
              "        text-align: right;\n",
              "    }\n",
              "</style>\n",
              "<table border=\"1\" class=\"dataframe\">\n",
              "  <thead>\n",
              "    <tr style=\"text-align: right;\">\n",
              "      <th></th>\n",
              "      <th>Destination Port</th>\n",
              "      <th>Flow Duration</th>\n",
              "      <th>Total Fwd Packets</th>\n",
              "      <th>Total Backward Packets</th>\n",
              "      <th>Total Length of Fwd Packets</th>\n",
              "      <th>Total Length of Bwd Packets</th>\n",
              "      <th>Fwd Packet Length Max</th>\n",
              "      <th>Fwd Packet Length Min</th>\n",
              "      <th>Fwd Packet Length Mean</th>\n",
              "      <th>Fwd Packet Length Std</th>\n",
              "      <th>...</th>\n",
              "      <th>min_seg_size_forward</th>\n",
              "      <th>Active Mean</th>\n",
              "      <th>Active Std</th>\n",
              "      <th>Active Max</th>\n",
              "      <th>Active Min</th>\n",
              "      <th>Idle Mean</th>\n",
              "      <th>Idle Std</th>\n",
              "      <th>Idle Max</th>\n",
              "      <th>Idle Min</th>\n",
              "      <th>Label</th>\n",
              "    </tr>\n",
              "  </thead>\n",
              "  <tbody>\n",
              "    <tr>\n",
              "      <th>0</th>\n",
              "      <td>53</td>\n",
              "      <td>527</td>\n",
              "      <td>1</td>\n",
              "      <td>1</td>\n",
              "      <td>61</td>\n",
              "      <td>89</td>\n",
              "      <td>61</td>\n",
              "      <td>61</td>\n",
              "      <td>61.00</td>\n",
              "      <td>0.000000</td>\n",
              "      <td>...</td>\n",
              "      <td>20</td>\n",
              "      <td>0.0</td>\n",
              "      <td>0.0000</td>\n",
              "      <td>0</td>\n",
              "      <td>0</td>\n",
              "      <td>0.00</td>\n",
              "      <td>0.00000</td>\n",
              "      <td>0</td>\n",
              "      <td>0</td>\n",
              "      <td>BENIGN</td>\n",
              "    </tr>\n",
              "    <tr>\n",
              "      <th>1</th>\n",
              "      <td>443</td>\n",
              "      <td>85623762</td>\n",
              "      <td>16</td>\n",
              "      <td>21</td>\n",
              "      <td>3180</td>\n",
              "      <td>6972</td>\n",
              "      <td>2781</td>\n",
              "      <td>0</td>\n",
              "      <td>198.75</td>\n",
              "      <td>690.827764</td>\n",
              "      <td>...</td>\n",
              "      <td>20</td>\n",
              "      <td>164164.5</td>\n",
              "      <td>383424.6181</td>\n",
              "      <td>1113092</td>\n",
              "      <td>28439</td>\n",
              "      <td>9999966.25</td>\n",
              "      <td>458.31329</td>\n",
              "      <td>10000000</td>\n",
              "      <td>9999427</td>\n",
              "      <td>BENIGN</td>\n",
              "    </tr>\n",
              "    <tr>\n",
              "      <th>2</th>\n",
              "      <td>53</td>\n",
              "      <td>193</td>\n",
              "      <td>2</td>\n",
              "      <td>2</td>\n",
              "      <td>46</td>\n",
              "      <td>46</td>\n",
              "      <td>23</td>\n",
              "      <td>23</td>\n",
              "      <td>23.00</td>\n",
              "      <td>0.000000</td>\n",
              "      <td>...</td>\n",
              "      <td>32</td>\n",
              "      <td>0.0</td>\n",
              "      <td>0.0000</td>\n",
              "      <td>0</td>\n",
              "      <td>0</td>\n",
              "      <td>0.00</td>\n",
              "      <td>0.00000</td>\n",
              "      <td>0</td>\n",
              "      <td>0</td>\n",
              "      <td>BENIGN</td>\n",
              "    </tr>\n",
              "    <tr>\n",
              "      <th>3</th>\n",
              "      <td>53</td>\n",
              "      <td>47513</td>\n",
              "      <td>2</td>\n",
              "      <td>2</td>\n",
              "      <td>74</td>\n",
              "      <td>444</td>\n",
              "      <td>37</td>\n",
              "      <td>37</td>\n",
              "      <td>37.00</td>\n",
              "      <td>0.000000</td>\n",
              "      <td>...</td>\n",
              "      <td>32</td>\n",
              "      <td>0.0</td>\n",
              "      <td>0.0000</td>\n",
              "      <td>0</td>\n",
              "      <td>0</td>\n",
              "      <td>0.00</td>\n",
              "      <td>0.00000</td>\n",
              "      <td>0</td>\n",
              "      <td>0</td>\n",
              "      <td>BENIGN</td>\n",
              "    </tr>\n",
              "    <tr>\n",
              "      <th>4</th>\n",
              "      <td>53</td>\n",
              "      <td>24000</td>\n",
              "      <td>2</td>\n",
              "      <td>2</td>\n",
              "      <td>70</td>\n",
              "      <td>306</td>\n",
              "      <td>35</td>\n",
              "      <td>35</td>\n",
              "      <td>35.00</td>\n",
              "      <td>0.000000</td>\n",
              "      <td>...</td>\n",
              "      <td>32</td>\n",
              "      <td>0.0</td>\n",
              "      <td>0.0000</td>\n",
              "      <td>0</td>\n",
              "      <td>0</td>\n",
              "      <td>0.00</td>\n",
              "      <td>0.00000</td>\n",
              "      <td>0</td>\n",
              "      <td>0</td>\n",
              "      <td>BENIGN</td>\n",
              "    </tr>\n",
              "  </tbody>\n",
              "</table>\n",
              "<p>5 rows × 79 columns</p>\n",
              "</div>\n",
              "      <button class=\"colab-df-convert\" onclick=\"convertToInteractive('df-7995edc7-d1d7-4efb-9f90-a5c57f76a835')\"\n",
              "              title=\"Convert this dataframe to an interactive table.\"\n",
              "              style=\"display:none;\">\n",
              "        \n",
              "  <svg xmlns=\"http://www.w3.org/2000/svg\" height=\"24px\"viewBox=\"0 0 24 24\"\n",
              "       width=\"24px\">\n",
              "    <path d=\"M0 0h24v24H0V0z\" fill=\"none\"/>\n",
              "    <path d=\"M18.56 5.44l.94 2.06.94-2.06 2.06-.94-2.06-.94-.94-2.06-.94 2.06-2.06.94zm-11 1L8.5 8.5l.94-2.06 2.06-.94-2.06-.94L8.5 2.5l-.94 2.06-2.06.94zm10 10l.94 2.06.94-2.06 2.06-.94-2.06-.94-.94-2.06-.94 2.06-2.06.94z\"/><path d=\"M17.41 7.96l-1.37-1.37c-.4-.4-.92-.59-1.43-.59-.52 0-1.04.2-1.43.59L10.3 9.45l-7.72 7.72c-.78.78-.78 2.05 0 2.83L4 21.41c.39.39.9.59 1.41.59.51 0 1.02-.2 1.41-.59l7.78-7.78 2.81-2.81c.8-.78.8-2.07 0-2.86zM5.41 20L4 18.59l7.72-7.72 1.47 1.35L5.41 20z\"/>\n",
              "  </svg>\n",
              "      </button>\n",
              "      \n",
              "  <style>\n",
              "    .colab-df-container {\n",
              "      display:flex;\n",
              "      flex-wrap:wrap;\n",
              "      gap: 12px;\n",
              "    }\n",
              "\n",
              "    .colab-df-convert {\n",
              "      background-color: #E8F0FE;\n",
              "      border: none;\n",
              "      border-radius: 50%;\n",
              "      cursor: pointer;\n",
              "      display: none;\n",
              "      fill: #1967D2;\n",
              "      height: 32px;\n",
              "      padding: 0 0 0 0;\n",
              "      width: 32px;\n",
              "    }\n",
              "\n",
              "    .colab-df-convert:hover {\n",
              "      background-color: #E2EBFA;\n",
              "      box-shadow: 0px 1px 2px rgba(60, 64, 67, 0.3), 0px 1px 3px 1px rgba(60, 64, 67, 0.15);\n",
              "      fill: #174EA6;\n",
              "    }\n",
              "\n",
              "    [theme=dark] .colab-df-convert {\n",
              "      background-color: #3B4455;\n",
              "      fill: #D2E3FC;\n",
              "    }\n",
              "\n",
              "    [theme=dark] .colab-df-convert:hover {\n",
              "      background-color: #434B5C;\n",
              "      box-shadow: 0px 1px 3px 1px rgba(0, 0, 0, 0.15);\n",
              "      filter: drop-shadow(0px 1px 2px rgba(0, 0, 0, 0.3));\n",
              "      fill: #FFFFFF;\n",
              "    }\n",
              "  </style>\n",
              "\n",
              "      <script>\n",
              "        const buttonEl =\n",
              "          document.querySelector('#df-7995edc7-d1d7-4efb-9f90-a5c57f76a835 button.colab-df-convert');\n",
              "        buttonEl.style.display =\n",
              "          google.colab.kernel.accessAllowed ? 'block' : 'none';\n",
              "\n",
              "        async function convertToInteractive(key) {\n",
              "          const element = document.querySelector('#df-7995edc7-d1d7-4efb-9f90-a5c57f76a835');\n",
              "          const dataTable =\n",
              "            await google.colab.kernel.invokeFunction('convertToInteractive',\n",
              "                                                     [key], {});\n",
              "          if (!dataTable) return;\n",
              "\n",
              "          const docLinkHtml = 'Like what you see? Visit the ' +\n",
              "            '<a target=\"_blank\" href=https://colab.research.google.com/notebooks/data_table.ipynb>data table notebook</a>'\n",
              "            + ' to learn more about interactive tables.';\n",
              "          element.innerHTML = '';\n",
              "          dataTable['output_type'] = 'display_data';\n",
              "          await google.colab.output.renderOutput(dataTable, element);\n",
              "          const docLink = document.createElement('div');\n",
              "          docLink.innerHTML = docLinkHtml;\n",
              "          element.appendChild(docLink);\n",
              "        }\n",
              "      </script>\n",
              "    </div>\n",
              "  </div>\n",
              "  "
            ]
          },
          "metadata": {},
          "execution_count": 18
        }
      ]
    },
    {
      "cell_type": "code",
      "source": [
        "df.shape"
      ],
      "metadata": {
        "id": "BZW4w-Js6Fr4",
        "colab": {
          "base_uri": "https://localhost:8080/"
        },
        "outputId": "6ea1d0d3-c7ba-4ba9-82b1-776dc01b9b4a"
      },
      "execution_count": null,
      "outputs": [
        {
          "output_type": "execute_result",
          "data": {
            "text/plain": [
              "(56661, 79)"
            ]
          },
          "metadata": {},
          "execution_count": 19
        }
      ]
    },
    {
      "cell_type": "code",
      "source": [
        "numeric_features = df.dtypes[df.dtypes != 'object'].index\n",
        "df[numeric_features] = df[numeric_features].apply(lambda x: (x - x.min()) / (x.max()-x.min()))\n",
        "\n",
        "df = df.fillna(0)"
      ],
      "metadata": {
        "id": "1Am9FoCLpmvr"
      },
      "execution_count": null,
      "outputs": []
    },
    {
      "cell_type": "code",
      "source": [
        "df.isnull().sum().sum()"
      ],
      "metadata": {
        "id": "rGPfjr1H3vtg",
        "colab": {
          "base_uri": "https://localhost:8080/"
        },
        "outputId": "9c8a5e61-2663-44e4-a729-677a8699939b"
      },
      "execution_count": null,
      "outputs": [
        {
          "output_type": "execute_result",
          "data": {
            "text/plain": [
              "0"
            ]
          },
          "metadata": {},
          "execution_count": 21
        }
      ]
    },
    {
      "cell_type": "code",
      "source": [
        "# sns.set_theme(style=\"ticks\")\n",
        "# sns.pairplot(df, hue=\"Label\")"
      ],
      "metadata": {
        "id": "GmUuYdzilUNa"
      },
      "execution_count": null,
      "outputs": []
    },
    {
      "cell_type": "markdown",
      "source": [
        "## **LabelEncoder  to encode categorical variables.**"
      ],
      "metadata": {
        "id": "3i8PuIJP--MK"
      }
    },
    {
      "cell_type": "code",
      "source": [
        "labelencoder = LabelEncoder()                                                 # Initializes a LabelEncoder object from scikit-learn, which will be used to encode categorical variables.\n",
        "df.iloc[:, -1] = labelencoder.fit_transform(df.iloc[:, -1])                   # Encodes the last column (assumed to be the target variable) of the pandas dataframe df using the LabelEncoder object.\n",
        "X = df.drop(['Label'],axis=1).values                                          # Assigns the feature variables (all columns except the last one) to the numpy array X by dropping the last column using drop(). The .values method converts the resulting dataframe to a numpy array.\n",
        "y = df.iloc[:, -1].values.reshape(-1,1)                                       # Assigns the target variable (last column) to the numpy array y. The .values method converts the resulting pandas Series to a numpy array. The reshape() method is used to ensure that y is a 2D array with only one column.\n",
        "y = np.ravel(y)                                                               # Converts y to a 1D array using ravel(). This is not strictly necessary, but may be preferred for some machine learning algorithms.\n",
        "X_train, X_test, y_train, y_test = train_test_split(X, y, train_size = 0.8, test_size = 0.2, random_state = 0,stratify = y)      # random_state parameter is set to 0 to ensure reproducibility, and the stratify parameter is set to y to ensure that the class proportions are the same in both the training and testing sets (useful for imbalanced datasets). The resulting arrays are assigned to X_train, X_test, y_train, and y_test, respectively."
      ],
      "metadata": {
        "id": "KNM7R4vbprUl",
        "colab": {
          "base_uri": "https://localhost:8080/"
        },
        "outputId": "cb82910d-5a9a-4e82-aca6-fa3e0b29a809"
      },
      "execution_count": null,
      "outputs": [
        {
          "output_type": "stream",
          "name": "stderr",
          "text": [
            "<ipython-input-23-cb095e7eca90>:2: DeprecationWarning: In a future version, `df.iloc[:, i] = newvals` will attempt to set the values inplace instead of always setting a new array. To retain the old behavior, use either `df[df.columns[i]] = newvals` or, if columns are non-unique, `df.isetitem(i, newvals)`\n",
            "  df.iloc[:, -1] = labelencoder.fit_transform(df.iloc[:, -1])\n"
          ]
        }
      ]
    },
    {
      "cell_type": "code",
      "source": [
        "X_train.shape"
      ],
      "metadata": {
        "id": "W377AlxOp_D8",
        "colab": {
          "base_uri": "https://localhost:8080/"
        },
        "outputId": "b19970bc-bbf5-49da-e87b-486a54686bc3"
      },
      "execution_count": null,
      "outputs": [
        {
          "output_type": "execute_result",
          "data": {
            "text/plain": [
              "(45328, 78)"
            ]
          },
          "metadata": {},
          "execution_count": 24
        }
      ]
    },
    {
      "cell_type": "code",
      "source": [
        " pd.Series(y_train).value_counts()                      #Converts the y_train numpy array to a pandas Series.\n",
        "  #output is   pandas Series where the index is the unique values in y_train and the values are the number of occurrences of each unique value."
      ],
      "metadata": {
        "id": "C1_athlsqCcr",
        "colab": {
          "base_uri": "https://localhost:8080/"
        },
        "outputId": "61d72510-6fb1-4738-d60b-caea4db26194"
      },
      "execution_count": null,
      "outputs": [
        {
          "output_type": "execute_result",
          "data": {
            "text/plain": [
              "0    18184\n",
              "3    15228\n",
              "5     6357\n",
              "2     2213\n",
              "6     1744\n",
              "1     1573\n",
              "4       29\n",
              "dtype: int64"
            ]
          },
          "metadata": {},
          "execution_count": 25
        }
      ]
    },
    {
      "cell_type": "markdown",
      "source": [
        "# **Addressing class imbalance in  training data - SMOTE**"
      ],
      "metadata": {
        "id": "UYw7zDan-l5J"
      }
    },
    {
      "cell_type": "code",
      "source": [
        "smote = SMOTE(sampling_strategy={4:1500})                                 # minority class with label 4 (presumably the +ve class) should be oversampled to have 1500 samples.\n",
        "X_train, y_train = smote.fit_resample(X_train, y_train)                   # Applies the SMOTE oversampling to the training set by calling the fit_resample() method with X_train and y_train as arguments.\n",
        "                       \n",
        "                       # X_train and y_train arrays will be updated with the oversampled data, where the minority class with label 4 has been oversampled to have 1500 samples. \n",
        "                       # This can be useful for addressing class imbalance in the training data, which can lead to biased or inaccurate machine learning models."
      ],
      "metadata": {
        "id": "lCGo5PJYqThW"
      },
      "execution_count": null,
      "outputs": []
    },
    {
      "cell_type": "code",
      "source": [
        "pd.Series(y_train).value_counts()"
      ],
      "metadata": {
        "id": "1anVUS_dqaM9",
        "colab": {
          "base_uri": "https://localhost:8080/"
        },
        "outputId": "94b51cd9-7b9f-4ea9-a976-47a6b7dbf278"
      },
      "execution_count": null,
      "outputs": [
        {
          "output_type": "execute_result",
          "data": {
            "text/plain": [
              "0    18184\n",
              "3    15228\n",
              "5     6357\n",
              "2     2213\n",
              "6     1744\n",
              "1     1573\n",
              "4     1500\n",
              "dtype: int64"
            ]
          },
          "metadata": {},
          "execution_count": 27
        }
      ]
    },
    {
      "cell_type": "markdown",
      "source": [
        "# ##** Decision Tree**"
      ],
      "metadata": {
        "id": "WmIhfyKf4n3t"
      }
    },
    {
      "cell_type": "code",
      "source": [
        "dt = DecisionTreeClassifier(random_state = 0)                                                           # creates a  object random state of 0,ensures reproducible results .\n",
        "dt.fit(X_train,y_train)                                                                                 # fits the  model on  training data (X_train) and  labels (y_train).\n",
        "dt_score=dt.score(X_test,y_test)                                                                        # calculates the accuracy ofmodel on test set (X_test and y_test).\n",
        "y_predict=dt.predict(X_test)                                                                            # predict the labels for test data using  trained model and store them in y_predict\n",
        "y_true=y_test                                                                                           # actual labels are stored in y_true.\n",
        "print('Accuracy of DT: '+ str(dt_score))\n",
        "precision,recall,fscore,none= precision_recall_fscore_support(y_true, y_predict, average='weighted') \n",
        "print('Precision of DT: '+(str(precision)))\n",
        "print('Recall of DT: '+(str(recall)))\n",
        "print('F1-score of DT: '+(str(fscore)))\n",
        "print(classification_report(y_true,y_predict))\n",
        "cm=confusion_matrix(y_true,y_predict)                                                                  # CONFUSION MATRIX\n",
        "f,ax=plt.subplots(figsize=(5,5))\n",
        "sns.heatmap(cm,annot=True,linewidth=0.5,linecolor=\"red\",fmt=\".0f\",ax=ax)\n",
        "plt.xlabel(\"y_pred\")\n",
        "plt.ylabel(\"y_true\")\n",
        "plt.show()"
      ],
      "metadata": {
        "colab": {
          "base_uri": "https://localhost:8080/",
          "height": 784
        },
        "id": "28AI0iNW4QlU",
        "outputId": "a6e3f25e-7b23-4b9d-92df-d4bf8d3db6af"
      },
      "execution_count": null,
      "outputs": [
        {
          "output_type": "stream",
          "name": "stdout",
          "text": [
            "Accuracy of DT: 0.9967351980940616\n",
            "Precision of DT: 0.9967433779773336\n",
            "Recall of DT: 0.9967351980940616\n",
            "F1-score of DT: 0.9967370334972472\n",
            "              precision    recall  f1-score   support\n",
            "\n",
            "           0       1.00      0.99      1.00      4547\n",
            "           1       0.99      0.99      0.99       393\n",
            "           2       1.00      1.00      1.00       554\n",
            "           3       1.00      1.00      1.00      3807\n",
            "           4       1.00      1.00      1.00         7\n",
            "           5       1.00      1.00      1.00      1589\n",
            "           6       0.98      0.99      0.99       436\n",
            "\n",
            "    accuracy                           1.00     11333\n",
            "   macro avg       0.99      1.00      1.00     11333\n",
            "weighted avg       1.00      1.00      1.00     11333\n",
            "\n"
          ]
        },
        {
          "output_type": "display_data",
          "data": {
            "text/plain": [
              "<Figure size 500x500 with 2 Axes>"
            ],
            "image/png": "[encoded data removed]"
          },
          "metadata": {}
        }
      ]
    },
    {
      "cell_type": "code",
      "source": [
        "dt_train=dt.predict(X_train)\n",
        "dt_test=dt.predict(X_test)"
      ],
      "metadata": {
        "id": "6WpKTeoX4kNE"
      },
      "execution_count": null,
      "outputs": []
    },
    {
      "cell_type": "markdown",
      "source": [
        "## Random Forest"
      ],
      "metadata": {
        "id": "LBVhOiWU4634"
      }
    },
    {
      "cell_type": "code",
      "source": [
        "rf = RandomForestClassifier(random_state = 0)\n",
        "rf.fit(X_train,y_train) \n",
        "rf_score=rf.score(X_test,y_test)\n",
        "y_predict=rf.predict(X_test)\n",
        "y_true=y_test\n",
        "print('Accuracy of RF: '+ str(rf_score))\n",
        "precision,recall,fscore,none= precision_recall_fscore_support(y_true, y_predict, average='weighted') \n",
        "print('Precision of RF: '+(str(precision)))\n",
        "print('Recall of RF: '+(str(recall)))\n",
        "print('F1-score of RF: '+(str(fscore)))\n",
        "print(classification_report(y_true,y_predict))\n",
        "cm=confusion_matrix(y_true,y_predict)\n",
        "f,ax=plt.subplots(figsize=(5,5))\n",
        "sns.heatmap(cm,annot=True,linewidth=0.5,linecolor=\"red\",fmt=\".0f\",ax=ax)\n",
        "plt.xlabel(\"y_pred\")\n",
        "plt.ylabel(\"y_true\")\n",
        "plt.show()"
      ],
      "metadata": {
        "colab": {
          "base_uri": "https://localhost:8080/",
          "height": 784
        },
        "id": "nL5XTOpw4xFk",
        "outputId": "c619de55-9d0a-433e-d96b-ec686a04a4df"
      },
      "execution_count": null,
      "outputs": [
        {
          "output_type": "stream",
          "name": "stdout",
          "text": [
            "Accuracy of RF: 0.9962940086473132\n",
            "Precision of RF: 0.9963078881710408\n",
            "Recall of RF: 0.9962940086473132\n",
            "F1-score of RF: 0.9962833888487207\n",
            "              precision    recall  f1-score   support\n",
            "\n",
            "           0       1.00      1.00      1.00      4547\n",
            "           1       0.97      0.98      0.98       393\n",
            "           2       1.00      1.00      1.00       554\n",
            "           3       1.00      1.00      1.00      3807\n",
            "           4       1.00      0.71      0.83         7\n",
            "           5       1.00      1.00      1.00      1589\n",
            "           6       1.00      0.99      0.99       436\n",
            "\n",
            "    accuracy                           1.00     11333\n",
            "   macro avg       0.99      0.95      0.97     11333\n",
            "weighted avg       1.00      1.00      1.00     11333\n",
            "\n"
          ]
        },
        {
          "output_type": "display_data",
          "data": {
            "text/plain": [
              "<Figure size 500x500 with 2 Axes>"
            ],
            "image/png": "[encoded data removed]"
          },
          "metadata": {}
        }
      ]
    },
    {
      "cell_type": "code",
      "source": [
        "rf_train=rf.predict(X_train)\n",
        "rf_test=rf.predict(X_test)"
      ],
      "metadata": {
        "id": "a22KijnO43d6"
      },
      "execution_count": null,
      "outputs": []
    },
    {
      "cell_type": "markdown",
      "source": [
        "## Extra Trees"
      ],
      "metadata": {
        "id": "FQE_tap34_pn"
      }
    },
    {
      "cell_type": "code",
      "source": [
        "et = ExtraTreesClassifier(random_state = 0)\n",
        "et.fit(X_train,y_train) \n",
        "et_score=et.score(X_test,y_test)\n",
        "y_predict=et.predict(X_test)\n",
        "y_true=y_test\n",
        "print('Accuracy of ET: '+ str(et_score))\n",
        "precision,recall,fscore,none= precision_recall_fscore_support(y_true, y_predict, average='weighted') \n",
        "print('Precision of ET: '+(str(precision)))\n",
        "print('Recall of ET: '+(str(recall)))\n",
        "print('F1-score of ET: '+(str(fscore)))\n",
        "print(classification_report(y_true,y_predict))\n",
        "cm=confusion_matrix(y_true,y_predict)\n",
        "f,ax=plt.subplots(figsize=(5,5))\n",
        "sns.heatmap(cm,annot=True,linewidth=0.5,linecolor=\"red\",fmt=\".0f\",ax=ax)\n",
        "plt.xlabel(\"y_pred\")\n",
        "plt.ylabel(\"y_true\")\n",
        "plt.show()"
      ],
      "metadata": {
        "colab": {
          "base_uri": "https://localhost:8080/",
          "height": 784
        },
        "id": "M4krDTdg5FVb",
        "outputId": "42607450-dbab-45fd-d053-131ff0a74353"
      },
      "execution_count": null,
      "outputs": [
        {
          "output_type": "stream",
          "name": "stdout",
          "text": [
            "Accuracy of ET: 0.9953233918644666\n",
            "Precision of ET: 0.9953255017621429\n",
            "Recall of ET: 0.9953233918644666\n",
            "F1-score of ET: 0.9953075685513322\n",
            "              precision    recall  f1-score   support\n",
            "\n",
            "           0       0.99      1.00      0.99      4547\n",
            "           1       0.98      0.97      0.98       393\n",
            "           2       1.00      0.99      1.00       554\n",
            "           3       1.00      1.00      1.00      3807\n",
            "           4       1.00      0.71      0.83         7\n",
            "           5       1.00      1.00      1.00      1589\n",
            "           6       1.00      0.99      0.99       436\n",
            "\n",
            "    accuracy                           1.00     11333\n",
            "   macro avg       1.00      0.95      0.97     11333\n",
            "weighted avg       1.00      1.00      1.00     11333\n",
            "\n"
          ]
        },
        {
          "output_type": "display_data",
          "data": {
            "text/plain": [
              "<Figure size 500x500 with 2 Axes>"
            ],
            "image/png": "[encoded data removed]"
          },
          "metadata": {}
        }
      ]
    },
    {
      "cell_type": "code",
      "source": [
        "et_train=et.predict(X_train)\n",
        "et_test=et.predict(X_test)"
      ],
      "metadata": {
        "id": "Kh6nyrBI5Ipr"
      },
      "execution_count": null,
      "outputs": []
    },
    {
      "cell_type": "markdown",
      "source": [
        "## XGBoost"
      ],
      "metadata": {
        "id": "J1Kf57TW5P9Z"
      }
    },
    {
      "cell_type": "code",
      "source": [
        "xg = xgb.XGBClassifier(n_estimators = 10)\n",
        "xg.fit(X_train,y_train)\n",
        "xg_score=xg.score(X_test,y_test)\n",
        "y_predict=xg.predict(X_test)\n",
        "y_true=y_test\n",
        "print('Accuracy of XGBoost: '+ str(xg_score))\n",
        "precision,recall,fscore,none= precision_recall_fscore_support(y_true, y_predict, average='weighted') \n",
        "print('Precision of XGBoost: '+(str(precision)))\n",
        "print('Recall of XGBoost: '+(str(recall)))\n",
        "print('F1-score of XGBoost: '+(str(fscore)))\n",
        "print(classification_report(y_true,y_predict))\n",
        "cm=confusion_matrix(y_true,y_predict)\n",
        "f,ax=plt.subplots(figsize=(5,5))\n",
        "sns.heatmap(cm,annot=True,linewidth=0.5,linecolor=\"red\",fmt=\".0f\",ax=ax)\n",
        "plt.xlabel(\"y_pred\")\n",
        "plt.ylabel(\"y_true\")\n",
        "plt.show()"
      ],
      "metadata": {
        "colab": {
          "base_uri": "https://localhost:8080/",
          "height": 784
        },
        "id": "WfK3ZzjR5RVr",
        "outputId": "dd726f1f-b478-49b7-8ab4-d1cfff7192a9"
      },
      "execution_count": null,
      "outputs": [
        {
          "output_type": "stream",
          "name": "stdout",
          "text": [
            "Accuracy of XGBoost: 0.9955881055325156\n",
            "Precision of XGBoost: 0.9955918224531761\n",
            "Recall of XGBoost: 0.9955881055325156\n",
            "F1-score of XGBoost: 0.9955711178626651\n",
            "              precision    recall  f1-score   support\n",
            "\n",
            "           0       1.00      0.99      0.99      4547\n",
            "           1       0.99      0.98      0.98       393\n",
            "           2       0.99      1.00      1.00       554\n",
            "           3       0.99      1.00      1.00      3807\n",
            "           4       1.00      0.71      0.83         7\n",
            "           5       1.00      1.00      1.00      1589\n",
            "           6       1.00      0.99      1.00       436\n",
            "\n",
            "    accuracy                           1.00     11333\n",
            "   macro avg       1.00      0.95      0.97     11333\n",
            "weighted avg       1.00      1.00      1.00     11333\n",
            "\n"
          ]
        },
        {
          "output_type": "display_data",
          "data": {
            "text/plain": [
              "<Figure size 500x500 with 2 Axes>"
            ],
            "image/png": "[encoded data removed]"
          },
          "metadata": {}
        }
      ]
    },
    {
      "cell_type": "code",
      "source": [
        "xg_train=xg.predict(X_train)                           #  uses XGBoost (stored in xg) to predictions on  training set (stored in X_train) and assigns  predictions to the variable xg_train.\n",
        "xg_test=xg.predict(X_test)                                                        # make predictions on   testing set (stored in X_test)  and assigns  predictions to the variable xg_test."
      ],
      "metadata": {
        "id": "SFjXzmP85TCy"
      },
      "execution_count": null,
      "outputs": []
    },
    {
      "cell_type": "code",
      "source": [
        "base_predictions_train = pd.DataFrame({                # creates a pandas DataFrame called --base_predictions_train ---that \n",
        "    'DecisionTree': dt_train.ravel(),                  # contains the predictions made by four different models on the training set.\n",
        "    'RandomForest': rf_train.ravel(),\n",
        "    'ExtraTrees': et_train.ravel(),\n",
        "    'XgBoost': xg_train.ravel(),\n",
        "    })\n",
        "base_predictions_train.head(5)"
      ],
      "metadata": {
        "colab": {
          "base_uri": "https://localhost:8080/",
          "height": 206
        },
        "id": "1MAbbhqx5ykS",
        "outputId": "8db29973-6eb0-4eea-ca85-bcca36f5897b"
      },
      "execution_count": null,
      "outputs": [
        {
          "output_type": "execute_result",
          "data": {
            "text/plain": [
              "   DecisionTree  RandomForest  ExtraTrees  XgBoost\n",
              "0             5             5           5        5\n",
              "1             3             3           3        3\n",
              "2             5             5           5        5\n",
              "3             3             3           3        3\n",
              "4             2             2           2        2"
            ],
            "text/html": [
              "\n",
              "  <div id=\"df-3d3f2ea4-783c-40fc-b495-cf44abe078cd\">\n",
              "    <div class=\"colab-df-container\">\n",
              "      <div>\n",
              "<style scoped>\n",
              "    .dataframe tbody tr th:only-of-type {\n",
              "        vertical-align: middle;\n",
              "    }\n",
              "\n",
              "    .dataframe tbody tr th {\n",
              "        vertical-align: top;\n",
              "    }\n",
              "\n",
              "    .dataframe thead th {\n",
              "        text-align: right;\n",
              "    }\n",
              "</style>\n",
              "<table border=\"1\" class=\"dataframe\">\n",
              "  <thead>\n",
              "    <tr style=\"text-align: right;\">\n",
              "      <th></th>\n",
              "      <th>DecisionTree</th>\n",
              "      <th>RandomForest</th>\n",
              "      <th>ExtraTrees</th>\n",
              "      <th>XgBoost</th>\n",
              "    </tr>\n",
              "  </thead>\n",
              "  <tbody>\n",
              "    <tr>\n",
              "      <th>0</th>\n",
              "      <td>5</td>\n",
              "      <td>5</td>\n",
              "      <td>5</td>\n",
              "      <td>5</td>\n",
              "    </tr>\n",
              "    <tr>\n",
              "      <th>1</th>\n",
              "      <td>3</td>\n",
              "      <td>3</td>\n",
              "      <td>3</td>\n",
              "      <td>3</td>\n",
              "    </tr>\n",
              "    <tr>\n",
              "      <th>2</th>\n",
              "      <td>5</td>\n",
              "      <td>5</td>\n",
              "      <td>5</td>\n",
              "      <td>5</td>\n",
              "    </tr>\n",
              "    <tr>\n",
              "      <th>3</th>\n",
              "      <td>3</td>\n",
              "      <td>3</td>\n",
              "      <td>3</td>\n",
              "      <td>3</td>\n",
              "    </tr>\n",
              "    <tr>\n",
              "      <th>4</th>\n",
              "      <td>2</td>\n",
              "      <td>2</td>\n",
              "      <td>2</td>\n",
              "      <td>2</td>\n",
              "    </tr>\n",
              "  </tbody>\n",
              "</table>\n",
              "</div>\n",
              "      <button class=\"colab-df-convert\" onclick=\"convertToInteractive('df-3d3f2ea4-783c-40fc-b495-cf44abe078cd')\"\n",
              "              title=\"Convert this dataframe to an interactive table.\"\n",
              "              style=\"display:none;\">\n",
              "        \n",
              "  <svg xmlns=\"http://www.w3.org/2000/svg\" height=\"24px\"viewBox=\"0 0 24 24\"\n",
              "       width=\"24px\">\n",
              "    <path d=\"M0 0h24v24H0V0z\" fill=\"none\"/>\n",
              "    <path d=\"M18.56 5.44l.94 2.06.94-2.06 2.06-.94-2.06-.94-.94-2.06-.94 2.06-2.06.94zm-11 1L8.5 8.5l.94-2.06 2.06-.94-2.06-.94L8.5 2.5l-.94 2.06-2.06.94zm10 10l.94 2.06.94-2.06 2.06-.94-2.06-.94-.94-2.06-.94 2.06-2.06.94z\"/><path d=\"M17.41 7.96l-1.37-1.37c-.4-.4-.92-.59-1.43-.59-.52 0-1.04.2-1.43.59L10.3 9.45l-7.72 7.72c-.78.78-.78 2.05 0 2.83L4 21.41c.39.39.9.59 1.41.59.51 0 1.02-.2 1.41-.59l7.78-7.78 2.81-2.81c.8-.78.8-2.07 0-2.86zM5.41 20L4 18.59l7.72-7.72 1.47 1.35L5.41 20z\"/>\n",
              "  </svg>\n",
              "      </button>\n",
              "      \n",
              "  <style>\n",
              "    .colab-df-container {\n",
              "      display:flex;\n",
              "      flex-wrap:wrap;\n",
              "      gap: 12px;\n",
              "    }\n",
              "\n",
              "    .colab-df-convert {\n",
              "      background-color: #E8F0FE;\n",
              "      border: none;\n",
              "      border-radius: 50%;\n",
              "      cursor: pointer;\n",
              "      display: none;\n",
              "      fill: #1967D2;\n",
              "      height: 32px;\n",
              "      padding: 0 0 0 0;\n",
              "      width: 32px;\n",
              "    }\n",
              "\n",
              "    .colab-df-convert:hover {\n",
              "      background-color: #E2EBFA;\n",
              "      box-shadow: 0px 1px 2px rgba(60, 64, 67, 0.3), 0px 1px 3px 1px rgba(60, 64, 67, 0.15);\n",
              "      fill: #174EA6;\n",
              "    }\n",
              "\n",
              "    [theme=dark] .colab-df-convert {\n",
              "      background-color: #3B4455;\n",
              "      fill: #D2E3FC;\n",
              "    }\n",
              "\n",
              "    [theme=dark] .colab-df-convert:hover {\n",
              "      background-color: #434B5C;\n",
              "      box-shadow: 0px 1px 3px 1px rgba(0, 0, 0, 0.15);\n",
              "      filter: drop-shadow(0px 1px 2px rgba(0, 0, 0, 0.3));\n",
              "      fill: #FFFFFF;\n",
              "    }\n",
              "  </style>\n",
              "\n",
              "      <script>\n",
              "        const buttonEl =\n",
              "          document.querySelector('#df-3d3f2ea4-783c-40fc-b495-cf44abe078cd button.colab-df-convert');\n",
              "        buttonEl.style.display =\n",
              "          google.colab.kernel.accessAllowed ? 'block' : 'none';\n",
              "\n",
              "        async function convertToInteractive(key) {\n",
              "          const element = document.querySelector('#df-3d3f2ea4-783c-40fc-b495-cf44abe078cd');\n",
              "          const dataTable =\n",
              "            await google.colab.kernel.invokeFunction('convertToInteractive',\n",
              "                                                     [key], {});\n",
              "          if (!dataTable) return;\n",
              "\n",
              "          const docLinkHtml = 'Like what you see? Visit the ' +\n",
              "            '<a target=\"_blank\" href=https://colab.research.google.com/notebooks/data_table.ipynb>data table notebook</a>'\n",
              "            + ' to learn more about interactive tables.';\n",
              "          element.innerHTML = '';\n",
              "          dataTable['output_type'] = 'display_data';\n",
              "          await google.colab.output.renderOutput(dataTable, element);\n",
              "          const docLink = document.createElement('div');\n",
              "          docLink.innerHTML = docLinkHtml;\n",
              "          element.appendChild(docLink);\n",
              "        }\n",
              "      </script>\n",
              "    </div>\n",
              "  </div>\n",
              "  "
            ]
          },
          "metadata": {},
          "execution_count": 36
        }
      ]
    },
    {
      "cell_type": "code",
      "source": [
        "dt_train=dt_train.reshape(-1, 1)\n",
        "et_train=et_train.reshape(-1, 1)\n",
        "rf_train=rf_train.reshape(-1, 1)\n",
        "xg_train=xg_train.reshape(-1, 1)\n",
        "dt_test=dt_test.reshape(-1, 1)\n",
        "et_test=et_test.reshape(-1, 1)\n",
        "rf_test=rf_test.reshape(-1, 1)\n",
        "xg_test=xg_test.reshape(-1, 1)"
      ],
      "metadata": {
        "id": "7ZVplolI8HnA"
      },
      "execution_count": null,
      "outputs": []
    },
    {
      "cell_type": "code",
      "source": [
        "x_train = np.concatenate(( dt_train, et_train, rf_train, xg_train), axis=1)     # concatenate  predictions made by the four models  on the training and testing sets,\n",
        "x_test = np.concatenate(( dt_test, et_test, rf_test, xg_test), axis=1)          # predictions are stacked horizontally to form a new array"
      ],
      "metadata": {
        "id": "8FKrQCzY8Jmn"
      },
      "execution_count": null,
      "outputs": []
    },
    {
      "cell_type": "markdown",
      "source": [
        "## **Stack Model**"
      ],
      "metadata": {
        "id": "chNkpssOE18Q"
      }
    },
    {
      "cell_type": "code",
      "source": [
        "stk = xgb.XGBClassifier().fit(x_train, y_train)                                 # variable will contain the trained XGBoost model, \n",
        "                                                                                # used to make predictions on new, unseen data or \n",
        "                                                                                # evaluate the performance of the model on a validation or testing set."
      ],
      "metadata": {
        "id": "rpTXvY1-8LhB"
      },
      "execution_count": null,
      "outputs": []
    },
    {
      "cell_type": "code",
      "source": [
        "y_predict=stk.predict(x_test)\n",
        "y_true=y_test\n",
        "stk_score=accuracy_score(y_true,y_predict)\n",
        "print('Accuracy of Stacking: '+ str(stk_score))\n",
        "precision,recall,fscore,none= precision_recall_fscore_support(y_true, y_predict, average='weighted') \n",
        "print('Precision of Stacking: '+(str(precision)))\n",
        "print('Recall of Stacking: '+(str(recall)))\n",
        "print('F1-score of Stacking: '+(str(fscore)))\n",
        "print(classification_report(y_true,y_predict))\n",
        "cm=confusion_matrix(y_true,y_predict)\n",
        "f,ax=plt.subplots(figsize=(5,5))\n",
        "sns.heatmap(cm,annot=True,linewidth=0.5,linecolor=\"red\",fmt=\".0f\",ax=ax)\n",
        "plt.xlabel(\"y_pred\")\n",
        "plt.ylabel(\"y_true\")\n",
        "plt.show()"
      ],
      "metadata": {
        "colab": {
          "base_uri": "https://localhost:8080/",
          "height": 784
        },
        "id": "F2FNUQYF8Na5",
        "outputId": "a132a77e-2c75-4970-9e6b-8cc11798bd69"
      },
      "execution_count": null,
      "outputs": [
        {
          "output_type": "stream",
          "name": "stdout",
          "text": [
            "Accuracy of Stacking: 0.9967351980940616\n",
            "Precision of Stacking: 0.9967433779773336\n",
            "Recall of Stacking: 0.9967351980940616\n",
            "F1-score of Stacking: 0.9967370334972472\n",
            "              precision    recall  f1-score   support\n",
            "\n",
            "           0       1.00      0.99      1.00      4547\n",
            "           1       0.99      0.99      0.99       393\n",
            "           2       1.00      1.00      1.00       554\n",
            "           3       1.00      1.00      1.00      3807\n",
            "           4       1.00      1.00      1.00         7\n",
            "           5       1.00      1.00      1.00      1589\n",
            "           6       0.98      0.99      0.99       436\n",
            "\n",
            "    accuracy                           1.00     11333\n",
            "   macro avg       0.99      1.00      1.00     11333\n",
            "weighted avg       1.00      1.00      1.00     11333\n",
            "\n"
          ]
        },
        {
          "output_type": "display_data",
          "data": {
            "text/plain": [
              "<Figure size 500x500 with 2 Axes>"
            ],
            "image/png": "[encoded data removed]"
          },
          "metadata": {}
        }
      ]
    },
    {
      "cell_type": "code",
      "source": [
        "dt_feature = dt.feature_importances_                                            # extracts the feature importances from a Decision Tree model and stores them in the dt_feature variable.\n",
        "rf_feature = rf.feature_importances_\n",
        "et_feature = et.feature_importances_\n",
        "xgb_feature = xg.feature_importances_"
      ],
      "metadata": {
        "id": "Bi8Lf3OoZJbs"
      },
      "execution_count": null,
      "outputs": []
    },
    {
      "cell_type": "code",
      "source": [
        "avg_feature = (dt_feature+rf_feature+et_feature+xgb_feature)/4                  # calculate average of model"
      ],
      "metadata": {
        "id": "hM0PVK2DZM-y"
      },
      "execution_count": null,
      "outputs": []
    },
    {
      "cell_type": "code",
      "source": [
        "feature=(df.drop(['Label'],axis=1)).columns.values                              # sorts the features in a pandas DataFrame df based on their average feature importance scores \n",
        "print (\"Features sorted by their score:\")\n",
        "print (sorted(zip(map(lambda x: round(x, 4), avg_feature), feature), reverse=True))"
      ],
      "metadata": {
        "colab": {
          "base_uri": "https://localhost:8080/"
        },
        "id": "hZ-fNUkvZOxo",
        "outputId": "72b5f309-ba0f-40e4-e761-60ddfdf68d04"
      },
      "execution_count": null,
      "outputs": [
        {
          "output_type": "stream",
          "name": "stdout",
          "text": [
            "Features sorted by their score:\n",
            "[(0.1095, 'Bwd Packet Length Min'), (0.1084, 'Bwd Packet Length Std'), (0.1016, 'Destination Port'), (0.0596, 'Average Packet Size'), (0.0416, 'Init_Win_bytes_backward'), (0.0372, 'Active Std'), (0.0315, 'PSH Flag Count'), (0.028, 'Bwd Packets/s'), (0.0279, 'Bwd Packet Length Mean'), (0.0269, 'Packet Length Variance'), (0.0247, 'Init_Win_bytes_forward'), (0.0201, 'Packet Length Std'), (0.0199, 'Avg Bwd Segment Size'), (0.0186, 'Bwd Header Length'), (0.0153, 'Bwd Packet Length Max'), (0.0151, 'Packet Length Mean'), (0.0147, 'Max Packet Length'), (0.014, 'Total Length of Fwd Packets'), (0.0132, 'FIN Flag Count'), (0.0129, 'ACK Flag Count'), (0.0125, 'min_seg_size_forward'), (0.0122, 'act_data_pkt_fwd'), (0.0119, 'Fwd Header Length'), (0.0112, 'Fwd IAT Min'), (0.0093, 'Total Fwd Packets'), (0.0092, 'Min Packet Length'), (0.0092, 'Fwd Header Length.1'), (0.0088, 'Flow IAT Max'), (0.0087, 'Down/Up Ratio'), (0.0087, 'Bwd IAT Max'), (0.0082, 'Subflow Fwd Bytes'), (0.0076, 'Subflow Bwd Packets'), (0.0076, 'Avg Fwd Segment Size'), (0.0074, 'Subflow Fwd Packets'), (0.0074, 'Fwd IAT Std'), (0.0072, 'Fwd IAT Max'), (0.007, 'Total Backward Packets'), (0.0069, 'Fwd Packet Length Min'), (0.0067, 'Fwd Packet Length Mean'), (0.0067, 'Fwd IAT Total'), (0.0062, 'Fwd Packet Length Max'), (0.0061, 'Flow Duration'), (0.0057, 'URG Flag Count'), (0.0053, 'Flow IAT Std'), (0.0048, 'Fwd Packets/s'), (0.0046, 'Idle Max'), (0.0046, 'Flow IAT Mean'), (0.0045, 'Flow IAT Min'), (0.0043, 'Subflow Bwd Bytes'), (0.0039, 'Total Length of Bwd Packets'), (0.0039, 'Fwd IAT Mean'), (0.0037, 'Bwd IAT Min'), (0.0036, 'Bwd IAT Std'), (0.0035, 'Fwd Packet Length Std'), (0.0035, 'Fwd PSH Flags'), (0.0035, 'Bwd IAT Total'), (0.0034, 'Idle Min'), (0.0032, 'SYN Flag Count'), (0.0029, 'Idle Mean'), (0.0017, 'Bwd IAT Mean'), (0.0006, 'Idle Std'), (0.0006, 'Active Min'), (0.0006, 'Active Mean'), (0.0004, 'Active Max'), (0.0, 'RST Flag Count'), (0.0, 'Fwd URG Flags'), (0.0, 'Fwd Avg Packets/Bulk'), (0.0, 'Fwd Avg Bytes/Bulk'), (0.0, 'Fwd Avg Bulk Rate'), (0.0, 'Flow Packets/s'), (0.0, 'Flow Bytes/s'), (0.0, 'ECE Flag Count'), (0.0, 'CWE Flag Count'), (0.0, 'Bwd URG Flags'), (0.0, 'Bwd PSH Flags'), (0.0, 'Bwd Avg Packets/Bulk'), (0.0, 'Bwd Avg Bytes/Bulk'), (0.0, 'Bwd Avg Bulk Rate')]\n"
          ]
        }
      ]
    },
    {
      "cell_type": "code",
      "source": [
        "f_list = sorted(zip(map(lambda x: round(x, 4), avg_feature), feature), reverse=True)          # calculates the length of the list f_list, which contains a sorted list of tuples r\n",
        "len(f_list)"
      ],
      "metadata": {
        "colab": {
          "base_uri": "https://localhost:8080/"
        },
        "id": "g0tf4fL9ZStM",
        "outputId": "49264096-21d2-476a-f36f-5f72137620f2"
      },
      "execution_count": null,
      "outputs": [
        {
          "output_type": "execute_result",
          "data": {
            "text/plain": [
              "78"
            ]
          },
          "metadata": {},
          "execution_count": 44
        }
      ]
    },
    {
      "cell_type": "code",
      "source": [
        "sum = 0                                                                         # calculates the cumulative sum of feature importances until the sum exceeds 0.9 and \n",
        "for i in range(0, len(f_list)):                                                 # stores the corresponding feature names in a list fs []\n",
        "fs = []\n",
        "  sum = sum + f_list[i][0]\n",
        "  fs.append(f_list[i][1])\n",
        "  if sum >= 0.9:\n",
        "    break"
      ],
      "metadata": {
        "id": "pLF3P283Zaab"
      },
      "execution_count": null,
      "outputs": []
    },
    {
      "cell_type": "code",
      "source": [
        "X_fs = df[fs].values"
      ],
      "metadata": {
        "id": "WT2t3u-QZjYZ"
      },
      "execution_count": null,
      "outputs": []
    },
    {
      "cell_type": "code",
      "source": [
        "X_train, X_test, y_train, y_test = train_test_split(X_fs,y, train_size = 0.8, test_size = 0.2, random_state = 0,stratify = y)\n",
        "X_train.shape"
      ],
      "metadata": {
        "colab": {
          "base_uri": "https://localhost:8080/"
        },
        "id": "7NK7vKK8Zk87",
        "outputId": "adf791f4-8357-4577-a0eb-ce21f39b111d"
      },
      "execution_count": null,
      "outputs": [
        {
          "output_type": "execute_result",
          "data": {
            "text/plain": [
              "(45328, 38)"
            ]
          },
          "metadata": {},
          "execution_count": 47
        }
      ]
    },
    {
      "cell_type": "code",
      "source": [
        "pd.Series(y_train).value_counts()"
      ],
      "metadata": {
        "colab": {
          "base_uri": "https://localhost:8080/"
        },
        "id": "G-o8h_q-ZqOb",
        "outputId": "92f6bd1b-3841-4ec3-952c-b2340505cca7"
      },
      "execution_count": null,
      "outputs": [
        {
          "output_type": "execute_result",
          "data": {
            "text/plain": [
              "0    18184\n",
              "3    15228\n",
              "5     6357\n",
              "2     2213\n",
              "6     1744\n",
              "1     1573\n",
              "4       29\n",
              "dtype: int64"
            ]
          },
          "metadata": {},
          "execution_count": 48
        }
      ]
    },
    {
      "cell_type": "code",
      "source": [
        "smote=SMOTE(n_jobs=-1,sampling_strategy={4:1500})\n",
        "X_train, y_train = smote.fit_resample(X_train, y_train)\n",
        "pd.Series(y_train).value_counts()"
      ],
      "metadata": {
        "colab": {
          "base_uri": "https://localhost:8080/"
        },
        "id": "eWRvreWIZtTD",
        "outputId": "beddb21d-4d59-46c0-dde9-b6278bc408fe"
      },
      "execution_count": null,
      "outputs": [
        {
          "output_type": "stream",
          "name": "stderr",
          "text": [
            "/usr/local/lib/python3.9/dist-packages/imblearn/over_sampling/_smote/base.py:336: FutureWarning: The parameter `n_jobs` has been deprecated in 0.10 and will be removed in 0.12. You can pass an nearest neighbors estimator where `n_jobs` is already set instead.\n",
            "  warnings.warn(\n"
          ]
        },
        {
          "output_type": "execute_result",
          "data": {
            "text/plain": [
              "0    18184\n",
              "3    15228\n",
              "5     6357\n",
              "2     2213\n",
              "6     1744\n",
              "1     1573\n",
              "4     1500\n",
              "dtype: int64"
            ]
          },
          "metadata": {},
          "execution_count": 49
        }
      ]
    },
    {
      "cell_type": "code",
      "source": [
        "dt = DecisionTreeClassifier(random_state = 0)\n",
        "dt.fit(X_train,y_train) \n",
        "dt_score=dt.score(X_test,y_test)\n",
        "y_predict=dt.predict(X_test)\n",
        "y_true=y_test\n",
        "print('Accuracy of DT: '+ str(dt_score))\n",
        "precision,recall,fscore,none= precision_recall_fscore_support(y_true, y_predict, average='weighted') \n",
        "print('Precision of DT: '+(str(precision)))\n",
        "print('Recall of DT: '+(str(recall)))\n",
        "print('F1-score of DT: '+(str(fscore)))\n",
        "print(classification_report(y_true,y_predict))\n",
        "cm=confusion_matrix(y_true,y_predict)\n",
        "f,ax=plt.subplots(figsize=(5,5))\n",
        "sns.heatmap(cm,annot=True,linewidth=0.5,linecolor=\"red\",fmt=\".0f\",ax=ax)\n",
        "plt.xlabel(\"y_pred\")\n",
        "plt.ylabel(\"y_true\")\n",
        "plt.show()"
      ],
      "metadata": {
        "colab": {
          "base_uri": "https://localhost:8080/",
          "height": 784
        },
        "id": "wTJUPHtJbLn5",
        "outputId": "7675f3a4-b6a3-448b-ab50-e4dec16521c5"
      },
      "execution_count": null,
      "outputs": [
        {
          "output_type": "stream",
          "name": "stdout",
          "text": [
            "Accuracy of DT: 0.9968234359834113\n",
            "Precision of DT: 0.9968286852565558\n",
            "Recall of DT: 0.9968234359834113\n",
            "F1-score of DT: 0.9968243975913275\n",
            "              precision    recall  f1-score   support\n",
            "\n",
            "           0       1.00      1.00      1.00      4547\n",
            "           1       0.99      0.99      0.99       393\n",
            "           2       1.00      1.00      1.00       554\n",
            "           3       1.00      1.00      1.00      3807\n",
            "           4       1.00      1.00      1.00         7\n",
            "           5       1.00      1.00      1.00      1589\n",
            "           6       0.98      0.99      0.99       436\n",
            "\n",
            "    accuracy                           1.00     11333\n",
            "   macro avg       0.99      1.00      1.00     11333\n",
            "weighted avg       1.00      1.00      1.00     11333\n",
            "\n"
          ]
        },
        {
          "output_type": "display_data",
          "data": {
            "text/plain": [
              "<Figure size 500x500 with 2 Axes>"
            ],
            "image/png": "[encoded data removed]"
          },
          "metadata": {}
        }
      ]
    },
    {
      "cell_type": "code",
      "source": [
        "dt_train=dt.predict(X_train)\n",
        "dt_test=dt.predict(X_test)"
      ],
      "metadata": {
        "id": "8vvYyH2qbMcf"
      },
      "execution_count": null,
      "outputs": []
    },
    {
      "cell_type": "code",
      "source": [
        "rf = RandomForestClassifier(random_state = 0)\n",
        "rf.fit(X_train,y_train)\n",
        "rf_score=rf.score(X_test,y_test)\n",
        "y_predict=rf.predict(X_test)\n",
        "y_true=y_test\n",
        "print('Accuracy of RF: '+ str(rf_score))\n",
        "precision,recall,fscore,none= precision_recall_fscore_support(y_true, y_predict, average='weighted') \n",
        "print('Precision of RF: '+(str(precision)))\n",
        "print('Recall of RF: '+(str(recall)))\n",
        "print('F1-score of RF: '+(str(fscore)))\n",
        "print(classification_report(y_true,y_predict))\n",
        "cm=confusion_matrix(y_true,y_predict)\n",
        "f,ax=plt.subplots(figsize=(5,5))\n",
        "sns.heatmap(cm,annot=True,linewidth=0.5,linecolor=\"red\",fmt=\".0f\",ax=ax)\n",
        "plt.xlabel(\"y_pred\")\n",
        "plt.ylabel(\"y_true\")\n",
        "plt.show()"
      ],
      "metadata": {
        "colab": {
          "base_uri": "https://localhost:8080/",
          "height": 784
        },
        "id": "pf9Uk1f9bO5y",
        "outputId": "ccca64db-5611-4e44-ae47-3435527e398b"
      },
      "execution_count": null,
      "outputs": [
        {
          "output_type": "stream",
          "name": "stdout",
          "text": [
            "Accuracy of RF: 0.9974411012088591\n",
            "Precision of RF: 0.9974409791398017\n",
            "Recall of RF: 0.9974411012088591\n",
            "F1-score of RF: 0.997424571590988\n",
            "              precision    recall  f1-score   support\n",
            "\n",
            "           0       1.00      1.00      1.00      4547\n",
            "           1       0.99      0.98      0.99       393\n",
            "           2       1.00      1.00      1.00       554\n",
            "           3       1.00      1.00      1.00      3807\n",
            "           4       1.00      0.71      0.83         7\n",
            "           5       1.00      1.00      1.00      1589\n",
            "           6       1.00      0.99      0.99       436\n",
            "\n",
            "    accuracy                           1.00     11333\n",
            "   macro avg       1.00      0.95      0.97     11333\n",
            "weighted avg       1.00      1.00      1.00     11333\n",
            "\n"
          ]
        },
        {
          "output_type": "display_data",
          "data": {
            "text/plain": [
              "<Figure size 500x500 with 2 Axes>"
            ],
            "image/png": "[encoded data removed]"
          },
          "metadata": {}
        }
      ]
    },
    {
      "cell_type": "code",
      "source": [
        "rf_train=rf.predict(X_train)\n",
        "rf_test=rf.predict(X_test)"
      ],
      "metadata": {
        "id": "Tb074ATGbQl3"
      },
      "execution_count": null,
      "outputs": []
    },
    {
      "cell_type": "code",
      "source": [
        "et = ExtraTreesClassifier(random_state = 0)\n",
        "et.fit(X_train,y_train) \n",
        "et_score=et.score(X_test,y_test)\n",
        "y_predict=et.predict(X_test)\n",
        "y_true=y_test\n",
        "print('Accuracy of ET: '+ str(et_score))\n",
        "precision,recall,fscore,none= precision_recall_fscore_support(y_true, y_predict, average='weighted') \n",
        "print('Precision of ET: '+(str(precision)))\n",
        "print('Recall of ET: '+(str(recall)))\n",
        "print('F1-score of ET: '+(str(fscore)))\n",
        "print(classification_report(y_true,y_predict))\n",
        "cm=confusion_matrix(y_true,y_predict)\n",
        "f,ax=plt.subplots(figsize=(5,5))\n",
        "sns.heatmap(cm,annot=True,linewidth=0.5,linecolor=\"red\",fmt=\".0f\",ax=ax)\n",
        "plt.xlabel(\"y_pred\")\n",
        "plt.ylabel(\"y_true\")\n",
        "plt.show()"
      ],
      "metadata": {
        "colab": {
          "base_uri": "https://localhost:8080/",
          "height": 784
        },
        "id": "pDaAnOF0bbjL",
        "outputId": "160133b3-1a2c-49c1-c2eb-c9b45573b4c4"
      },
      "execution_count": null,
      "outputs": [
        {
          "output_type": "stream",
          "name": "stdout",
          "text": [
            "Accuracy of ET: 0.9964704844260125\n",
            "Precision of ET: 0.9964708911962491\n",
            "Recall of ET: 0.9964704844260125\n",
            "F1-score of ET: 0.9964545865568019\n",
            "              precision    recall  f1-score   support\n",
            "\n",
            "           0       0.99      1.00      1.00      4547\n",
            "           1       0.99      0.98      0.99       393\n",
            "           2       1.00      0.99      1.00       554\n",
            "           3       1.00      1.00      1.00      3807\n",
            "           4       1.00      0.71      0.83         7\n",
            "           5       1.00      1.00      1.00      1589\n",
            "           6       1.00      0.99      0.99       436\n",
            "\n",
            "    accuracy                           1.00     11333\n",
            "   macro avg       1.00      0.95      0.97     11333\n",
            "weighted avg       1.00      1.00      1.00     11333\n",
            "\n"
          ]
        },
        {
          "output_type": "display_data",
          "data": {
            "text/plain": [
              "<Figure size 500x500 with 2 Axes>"
            ],
            "image/png": "[encoded data removed]"
          },
          "metadata": {}
        }
      ]
    },
    {
      "cell_type": "code",
      "source": [
        "et_train=et.predict(X_train)\n",
        "et_test=et.predict(X_test)"
      ],
      "metadata": {
        "id": "l2CVgcFDbdvz"
      },
      "execution_count": null,
      "outputs": []
    },
    {
      "cell_type": "code",
      "source": [
        "xg = xgb.XGBClassifier(n_estimators = 10)\n",
        "xg.fit(X_train,y_train)\n",
        "xg_score=xg.score(X_test,y_test)\n",
        "y_predict=xg.predict(X_test)\n",
        "y_true=y_test\n",
        "print('Accuracy of XGBoost: '+ str(xg_score))\n",
        "precision,recall,fscore,none= precision_recall_fscore_support(y_true, y_predict, average='weighted') \n",
        "print('Precision of XGBoost: '+(str(precision)))\n",
        "print('Recall of XGBoost: '+(str(recall)))\n",
        "print('F1-score of XGBoost: '+(str(fscore)))\n",
        "print(classification_report(y_true,y_predict))\n",
        "cm=confusion_matrix(y_true,y_predict)\n",
        "f,ax=plt.subplots(figsize=(5,5))\n",
        "sns.heatmap(cm,annot=True,linewidth=0.5,linecolor=\"red\",fmt=\".0f\",ax=ax)\n",
        "plt.xlabel(\"y_pred\")\n",
        "plt.ylabel(\"y_true\")\n",
        "plt.show()"
      ],
      "metadata": {
        "colab": {
          "base_uri": "https://localhost:8080/",
          "height": 784
        },
        "id": "6Jg4S6jQbgdQ",
        "outputId": "17863f5e-5191-4f92-85b7-bcc3084f7bb4"
      },
      "execution_count": null,
      "outputs": [
        {
          "output_type": "stream",
          "name": "stdout",
          "text": [
            "Accuracy of XGBoost: 0.9953233918644666\n",
            "Precision of XGBoost: 0.9953261388853651\n",
            "Recall of XGBoost: 0.9953233918644666\n",
            "F1-score of XGBoost: 0.9953051152662237\n",
            "              precision    recall  f1-score   support\n",
            "\n",
            "           0       1.00      0.99      1.00      4547\n",
            "           1       0.99      0.98      0.98       393\n",
            "           2       0.99      1.00      1.00       554\n",
            "           3       0.99      1.00      1.00      3807\n",
            "           4       1.00      0.71      0.83         7\n",
            "           5       1.00      1.00      1.00      1589\n",
            "           6       0.99      0.98      0.99       436\n",
            "\n",
            "    accuracy                           1.00     11333\n",
            "   macro avg       0.99      0.95      0.97     11333\n",
            "weighted avg       1.00      1.00      1.00     11333\n",
            "\n"
          ]
        },
        {
          "output_type": "display_data",
          "data": {
            "text/plain": [
              "<Figure size 500x500 with 2 Axes>"
            ],
            "image/png": "[encoded data removed]"
          },
          "metadata": {}
        }
      ]
    },
    {
      "cell_type": "code",
      "source": [
        "xg_train=xg.predict(X_train)\n",
        "xg_test=xg.predict(X_test)"
      ],
      "metadata": {
        "id": "Um-gKVd9bk9z"
      },
      "execution_count": null,
      "outputs": []
    },
    {
      "cell_type": "code",
      "source": [
        "base_predictions_train = pd.DataFrame({\n",
        "    'DecisionTree': dt_train.ravel(),\n",
        "    'RandomForest': rf_train.ravel(),\n",
        "    'ExtraTrees': et_train.ravel(),\n",
        "    'XgBoost': xg_train.ravel(),\n",
        "    })\n",
        "base_predictions_train.head(5)"
      ],
      "metadata": {
        "colab": {
          "base_uri": "https://localhost:8080/",
          "height": 206
        },
        "id": "d46j08PJbmxK",
        "outputId": "4b231c7b-27b7-4028-cfad-9958ecd68734"
      },
      "execution_count": null,
      "outputs": [
        {
          "output_type": "execute_result",
          "data": {
            "text/plain": [
              "   DecisionTree  RandomForest  ExtraTrees  XgBoost\n",
              "0             5             5           5        5\n",
              "1             3             3           3        3\n",
              "2             5             5           5        5\n",
              "3             3             3           3        3\n",
              "4             2             2           2        2"
            ],
            "text/html": [
              "\n",
              "  <div id=\"df-c2a7f323-974c-4330-9d4a-f7090c7cbf72\">\n",
              "    <div class=\"colab-df-container\">\n",
              "      <div>\n",
              "<style scoped>\n",
              "    .dataframe tbody tr th:only-of-type {\n",
              "        vertical-align: middle;\n",
              "    }\n",
              "\n",
              "    .dataframe tbody tr th {\n",
              "        vertical-align: top;\n",
              "    }\n",
              "\n",
              "    .dataframe thead th {\n",
              "        text-align: right;\n",
              "    }\n",
              "</style>\n",
              "<table border=\"1\" class=\"dataframe\">\n",
              "  <thead>\n",
              "    <tr style=\"text-align: right;\">\n",
              "      <th></th>\n",
              "      <th>DecisionTree</th>\n",
              "      <th>RandomForest</th>\n",
              "      <th>ExtraTrees</th>\n",
              "      <th>XgBoost</th>\n",
              "    </tr>\n",
              "  </thead>\n",
              "  <tbody>\n",
              "    <tr>\n",
              "      <th>0</th>\n",
              "      <td>5</td>\n",
              "      <td>5</td>\n",
              "      <td>5</td>\n",
              "      <td>5</td>\n",
              "    </tr>\n",
              "    <tr>\n",
              "      <th>1</th>\n",
              "      <td>3</td>\n",
              "      <td>3</td>\n",
              "      <td>3</td>\n",
              "      <td>3</td>\n",
              "    </tr>\n",
              "    <tr>\n",
              "      <th>2</th>\n",
              "      <td>5</td>\n",
              "      <td>5</td>\n",
              "      <td>5</td>\n",
              "      <td>5</td>\n",
              "    </tr>\n",
              "    <tr>\n",
              "      <th>3</th>\n",
              "      <td>3</td>\n",
              "      <td>3</td>\n",
              "      <td>3</td>\n",
              "      <td>3</td>\n",
              "    </tr>\n",
              "    <tr>\n",
              "      <th>4</th>\n",
              "      <td>2</td>\n",
              "      <td>2</td>\n",
              "      <td>2</td>\n",
              "      <td>2</td>\n",
              "    </tr>\n",
              "  </tbody>\n",
              "</table>\n",
              "</div>\n",
              "      <button class=\"colab-df-convert\" onclick=\"convertToInteractive('df-c2a7f323-974c-4330-9d4a-f7090c7cbf72')\"\n",
              "              title=\"Convert this dataframe to an interactive table.\"\n",
              "              style=\"display:none;\">\n",
              "        \n",
              "  <svg xmlns=\"http://www.w3.org/2000/svg\" height=\"24px\"viewBox=\"0 0 24 24\"\n",
              "       width=\"24px\">\n",
              "    <path d=\"M0 0h24v24H0V0z\" fill=\"none\"/>\n",
              "    <path d=\"M18.56 5.44l.94 2.06.94-2.06 2.06-.94-2.06-.94-.94-2.06-.94 2.06-2.06.94zm-11 1L8.5 8.5l.94-2.06 2.06-.94-2.06-.94L8.5 2.5l-.94 2.06-2.06.94zm10 10l.94 2.06.94-2.06 2.06-.94-2.06-.94-.94-2.06-.94 2.06-2.06.94z\"/><path d=\"M17.41 7.96l-1.37-1.37c-.4-.4-.92-.59-1.43-.59-.52 0-1.04.2-1.43.59L10.3 9.45l-7.72 7.72c-.78.78-.78 2.05 0 2.83L4 21.41c.39.39.9.59 1.41.59.51 0 1.02-.2 1.41-.59l7.78-7.78 2.81-2.81c.8-.78.8-2.07 0-2.86zM5.41 20L4 18.59l7.72-7.72 1.47 1.35L5.41 20z\"/>\n",
              "  </svg>\n",
              "      </button>\n",
              "      \n",
              "  <style>\n",
              "    .colab-df-container {\n",
              "      display:flex;\n",
              "      flex-wrap:wrap;\n",
              "      gap: 12px;\n",
              "    }\n",
              "\n",
              "    .colab-df-convert {\n",
              "      background-color: #E8F0FE;\n",
              "      border: none;\n",
              "      border-radius: 50%;\n",
              "      cursor: pointer;\n",
              "      display: none;\n",
              "      fill: #1967D2;\n",
              "      height: 32px;\n",
              "      padding: 0 0 0 0;\n",
              "      width: 32px;\n",
              "    }\n",
              "\n",
              "    .colab-df-convert:hover {\n",
              "      background-color: #E2EBFA;\n",
              "      box-shadow: 0px 1px 2px rgba(60, 64, 67, 0.3), 0px 1px 3px 1px rgba(60, 64, 67, 0.15);\n",
              "      fill: #174EA6;\n",
              "    }\n",
              "\n",
              "    [theme=dark] .colab-df-convert {\n",
              "      background-color: #3B4455;\n",
              "      fill: #D2E3FC;\n",
              "    }\n",
              "\n",
              "    [theme=dark] .colab-df-convert:hover {\n",
              "      background-color: #434B5C;\n",
              "      box-shadow: 0px 1px 3px 1px rgba(0, 0, 0, 0.15);\n",
              "      filter: drop-shadow(0px 1px 2px rgba(0, 0, 0, 0.3));\n",
              "      fill: #FFFFFF;\n",
              "    }\n",
              "  </style>\n",
              "\n",
              "      <script>\n",
              "        const buttonEl =\n",
              "          document.querySelector('#df-c2a7f323-974c-4330-9d4a-f7090c7cbf72 button.colab-df-convert');\n",
              "        buttonEl.style.display =\n",
              "          google.colab.kernel.accessAllowed ? 'block' : 'none';\n",
              "\n",
              "        async function convertToInteractive(key) {\n",
              "          const element = document.querySelector('#df-c2a7f323-974c-4330-9d4a-f7090c7cbf72');\n",
              "          const dataTable =\n",
              "            await google.colab.kernel.invokeFunction('convertToInteractive',\n",
              "                                                     [key], {});\n",
              "          if (!dataTable) return;\n",
              "\n",
              "          const docLinkHtml = 'Like what you see? Visit the ' +\n",
              "            '<a target=\"_blank\" href=https://colab.research.google.com/notebooks/data_table.ipynb>data table notebook</a>'\n",
              "            + ' to learn more about interactive tables.';\n",
              "          element.innerHTML = '';\n",
              "          dataTable['output_type'] = 'display_data';\n",
              "          await google.colab.output.renderOutput(dataTable, element);\n",
              "          const docLink = document.createElement('div');\n",
              "          docLink.innerHTML = docLinkHtml;\n",
              "          element.appendChild(docLink);\n",
              "        }\n",
              "      </script>\n",
              "    </div>\n",
              "  </div>\n",
              "  "
            ]
          },
          "metadata": {},
          "execution_count": 58
        }
      ]
    },
    {
      "cell_type": "code",
      "source": [
        "dt_train=dt_train.reshape(-1, 1)\n",
        "et_train=et_train.reshape(-1, 1)\n",
        "rf_train=rf_train.reshape(-1, 1)\n",
        "xg_train=xg_train.reshape(-1, 1)\n",
        "dt_test=dt_test.reshape(-1, 1)\n",
        "et_test=et_test.reshape(-1, 1)\n",
        "rf_test=rf_test.reshape(-1, 1)\n",
        "xg_test=xg_test.reshape(-1, 1)"
      ],
      "metadata": {
        "id": "3J8WkF5ObvCF"
      },
      "execution_count": null,
      "outputs": []
    },
    {
      "cell_type": "code",
      "source": [
        "x_train = np.concatenate((dt_train, et_train, rf_train, xg_train), axis=1)\n",
        "x_test = np.concatenate((dt_test, et_test, rf_test, xg_test), axis=1)"
      ],
      "metadata": {
        "id": "a8co--4sbyIA"
      },
      "execution_count": null,
      "outputs": []
    },
    {
      "cell_type": "markdown",
      "source": [
        "### **Stack ---> XGBoost**"
      ],
      "metadata": {
        "id": "KG6abvOLH9n7"
      }
    },
    {
      "cell_type": "code",
      "source": [
        "stk = xgb.XGBClassifier().fit(x_train, y_train)\n",
        "y_predict=stk.predict(x_test)\n",
        "y_true=y_test\n",
        "stk_score=accuracy_score(y_true,y_predict)\n",
        "print('Accuracy of Stacking: '+ str(stk_score))\n",
        "precision,recall,fscore,none= precision_recall_fscore_support(y_true, y_predict, average='weighted') \n",
        "print('Precision of Stacking: '+(str(precision)))\n",
        "print('Recall of Stacking: '+(str(recall)))\n",
        "print('F1-score of Stacking: '+(str(fscore)))\n",
        "print(classification_report(y_true,y_predict))\n",
        "cm=confusion_matrix(y_true,y_predict)\n",
        "f,ax=plt.subplots(figsize=(5,5))\n",
        "sns.heatmap(cm,annot=True,linewidth=0.5,linecolor=\"red\",fmt=\".0f\",ax=ax)\n",
        "plt.xlabel(\"y_pred\")\n",
        "plt.ylabel(\"y_true\")\n",
        "plt.show()"
      ],
      "metadata": {
        "colab": {
          "base_uri": "https://localhost:8080/",
          "height": 784
        },
        "id": "-8578b8Gb6K2",
        "outputId": "c3d1c9b9-87e9-4b58-93a7-0116548f740f"
      },
      "execution_count": null,
      "outputs": [
        {
          "output_type": "stream",
          "name": "stdout",
          "text": [
            "Accuracy of Stacking: 0.9963822465366629\n",
            "Precision of Stacking: 0.9963830778515008\n",
            "Recall of Stacking: 0.9963822465366629\n",
            "F1-score of Stacking: 0.9963656258547763\n",
            "              precision    recall  f1-score   support\n",
            "\n",
            "           0       0.99      1.00      1.00      4547\n",
            "           1       0.99      0.98      0.99       393\n",
            "           2       1.00      0.99      1.00       554\n",
            "           3       1.00      1.00      1.00      3807\n",
            "           4       1.00      0.71      0.83         7\n",
            "           5       1.00      1.00      1.00      1589\n",
            "           6       0.99      0.99      0.99       436\n",
            "\n",
            "    accuracy                           1.00     11333\n",
            "   macro avg       1.00      0.95      0.97     11333\n",
            "weighted avg       1.00      1.00      1.00     11333\n",
            "\n"
          ]
        },
        {
          "output_type": "display_data",
          "data": {
            "text/plain": [
              "<Figure size 500x500 with 2 Axes>"
            ],
            "image/png": "[encoded data removed]"
          },
          "metadata": {}
        }
      ]
    }
  ]
}